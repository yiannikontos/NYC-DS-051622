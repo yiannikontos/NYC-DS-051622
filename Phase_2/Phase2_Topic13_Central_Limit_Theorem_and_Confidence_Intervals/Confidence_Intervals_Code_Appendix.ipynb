{
 "cells": [
  {
   "cell_type": "markdown",
   "metadata": {},
   "source": [
    "# Confidence Intervals Code Appendix\n",
    "\n",
    "## Student's t Distribution\n",
    "\n",
    "### Coding Key Words:\n",
    "\n",
    "- rvs: random variates\n",
    "- pdf: probability density function\n",
    "- cdf: cumulative distribution function\n",
    "- ppf: percent point function or percentile (inverse of cdf)\n",
    "\n",
    "### Required parameters:\n",
    "\n",
    "- df: degree of freedom, n - 1\n",
    "- size: size of the simulated dataset\n",
    "- x: location for probability calculation\n",
    "- q: lower tail probability for percentile calculation\n",
    "\n",
    "``` Python\n",
    "# Import dependency\n",
    "from scipy import stats\n",
    "\n",
    "# Create the parameter values\n",
    "df = 34\n",
    "x = 1\n",
    "q = 0.75\n",
    "\n",
    "# Create a random variable that follows t distribution\n",
    "t = stats.t.rvs(df=df, size=1000)\n",
    "\n",
    "# Calculate the PDF at x\n",
    "tx = stats.t.pdf(x=x, df=df)\n",
    "\n",
    "# Calculate the probability equal or less than x\n",
    "txx = stats.t.cdf(x=x, df=df)\n",
    "\n",
    "# Calculate the 75th percentile\n",
    "tpct = stats.t.ppf(q=q, df=df)\n",
    "```"
   ]
  },
  {
   "cell_type": "code",
   "execution_count": null,
   "metadata": {
    "ExecuteTime": {
     "end_time": "2021-10-10T03:09:07.829447Z",
     "start_time": "2021-10-10T03:09:07.827221Z"
    }
   },
   "outputs": [],
   "source": [
    "# Import t from scipy.stats\n",
    "from scipy import stats"
   ]
  },
  {
   "cell_type": "code",
   "execution_count": null,
   "metadata": {
    "ExecuteTime": {
     "end_time": "2021-10-10T03:09:08.764815Z",
     "start_time": "2021-10-10T03:09:08.752814Z"
    }
   },
   "outputs": [],
   "source": [
    "# Create the degree of freedon \n",
    "df = 20\n",
    "\n",
    "# Create a set of random values (1000) that follows t distribution\n",
    "t = stats.t.rvs(df=df, size=1000)\n",
    "\n",
    "print(f\"Student's t Random Variable: \\n{t}\\n\")"
   ]
  },
  {
   "cell_type": "code",
   "execution_count": null,
   "metadata": {
    "ExecuteTime": {
     "end_time": "2021-10-10T03:10:22.946475Z",
     "start_time": "2021-10-10T03:10:22.933118Z"
    }
   },
   "outputs": [],
   "source": [
    "# Calculate the pdf at x = 1\n",
    "stats.t.pdf(x=1, df=df)"
   ]
  },
  {
   "cell_type": "code",
   "execution_count": null,
   "metadata": {
    "ExecuteTime": {
     "end_time": "2021-10-10T03:10:23.798223Z",
     "start_time": "2021-10-10T03:10:23.791866Z"
    }
   },
   "outputs": [],
   "source": [
    "# Calculate the cdf at x = 1\n",
    "stats.t.cdf(x=1, df=df)"
   ]
  },
  {
   "cell_type": "code",
   "execution_count": null,
   "metadata": {
    "ExecuteTime": {
     "end_time": "2021-10-10T03:10:24.512341Z",
     "start_time": "2021-10-10T03:10:24.508050Z"
    }
   },
   "outputs": [],
   "source": [
    "# Calculate the t statistic at 50% percentile\n",
    "stats.t.ppf(q=0.5, df=df)"
   ]
  },
  {
   "cell_type": "markdown",
   "metadata": {},
   "source": [
    "## Confidence Intervals for Student's t Distribution\n",
    "\n",
    "``` python\n",
    "# Import stats module\n",
    "from scipy import stats\n",
    "\n",
    "# Calculate the confidence interval\n",
    "stats.t.interval(\n",
    "    alpha=0.9,           # Confidence level\n",
    "    df=df,               # Degrees of freedom\n",
    "    loc=sample_mean,     # Sample mean\n",
    "    scale=standard_error # Estimated standard error for t-distribution\n",
    ")\n",
    "```\n",
    "\n",
    "### Confidence Intervals for Sample Means Distribution\n",
    "\n",
    "When the population standard deviation is known, we should use the standard z (normal) distribution.\n",
    "\n",
    "``` Python\n",
    "# Import stats module\n",
    "from scipy import stats\n",
    "\n",
    "# Calculate the confidence interval \n",
    "stats.norm.interval(\n",
    "    alpha=0.9,            # Confidence level\n",
    "    loc=sample_mean,      # Sample mean\n",
    "    scale=standard_error  # Standard error for sample distribution\n",
    ")\n",
    "```"
   ]
  },
  {
   "cell_type": "code",
   "execution_count": null,
   "metadata": {
    "ExecuteTime": {
     "end_time": "2021-10-10T03:10:35.301162Z",
     "start_time": "2021-10-10T03:10:35.298904Z"
    }
   },
   "outputs": [],
   "source": [
    "# Import t from scipy.stats\n",
    "from scipy import stats"
   ]
  },
  {
   "cell_type": "code",
   "execution_count": null,
   "metadata": {
    "ExecuteTime": {
     "end_time": "2021-10-10T03:10:36.195028Z",
     "start_time": "2021-10-10T03:10:36.189156Z"
    }
   },
   "outputs": [],
   "source": [
    "# Calculate the 95% confidence interval\n",
    "sample_mean = 15\n",
    "standard_error = 1.2\n",
    "\n",
    "stats.t.interval(\n",
    "    alpha=0.95,\n",
    "    df=df,\n",
    "    loc=sample_mean,\n",
    "    scale=standard_error\n",
    ")"
   ]
  },
  {
   "cell_type": "markdown",
   "metadata": {},
   "source": [
    "## Bootstrap\n",
    "\n",
    "Re-sampling method to create new samples for statistical inference.\n",
    "\n",
    "``` Python\n",
    "from sklearn.utils import resample\n",
    "\n",
    "data = [...]\n",
    "\n",
    "boot = resample(data,              # original data set\n",
    "                replace=True,      # resampling with replacement\n",
    "                n_samples=10,      # number of samples\n",
    "                random_state=123   # random seed to ensure consistent result\n",
    ")\n",
    "\n",
    "print(f'Bootstrap Sample: \\n{boot}')\n",
    "```"
   ]
  },
  {
   "cell_type": "code",
   "execution_count": null,
   "metadata": {
    "ExecuteTime": {
     "end_time": "2021-10-10T03:10:46.099937Z",
     "start_time": "2021-10-10T03:10:45.631217Z"
    }
   },
   "outputs": [],
   "source": [
    "# Import resample from sklearn.utils\n",
    "from sklearn.utils import resample"
   ]
  },
  {
   "cell_type": "code",
   "execution_count": null,
   "metadata": {
    "ExecuteTime": {
     "end_time": "2021-10-10T03:12:34.040376Z",
     "start_time": "2021-10-10T03:12:34.035785Z"
    }
   },
   "outputs": [],
   "source": [
    "# Create 10 boostrap samples from the random variable t\n",
    "boot = resample(t,\n",
    "               replace=True,\n",
    "               n_samples=100,\n",
    "               random_state=777\n",
    ")\n",
    "\n",
    "print(f'Boostrap Sample: \\n{boot}')"
   ]
  },
  {
   "cell_type": "code",
   "execution_count": null,
   "metadata": {},
   "outputs": [],
   "source": []
  }
 ],
 "metadata": {
  "hide_input": false,
  "kernelspec": {
   "display_name": "Python 3",
   "language": "python",
   "name": "python3"
  },
  "language_info": {
   "codemirror_mode": {
    "name": "ipython",
    "version": 3
   },
   "file_extension": ".py",
   "mimetype": "text/x-python",
   "name": "python",
   "nbconvert_exporter": "python",
   "pygments_lexer": "ipython3",
   "version": "3.7.2"
  },
  "latex_envs": {
   "LaTeX_envs_menu_present": true,
   "autoclose": false,
   "autocomplete": true,
   "bibliofile": "biblio.bib",
   "cite_by": "apalike",
   "current_citInitial": 1,
   "eqLabelWithNumbers": true,
   "eqNumInitial": 1,
   "hotkeys": {
    "equation": "Ctrl-E",
    "itemize": "Ctrl-I"
   },
   "labels_anchors": false,
   "latex_user_defs": false,
   "report_style_numbering": false,
   "user_envs_cfg": false
  },
  "nbTranslate": {
   "displayLangs": [
    "*"
   ],
   "hotkey": "alt-t",
   "langInMainMenu": true,
   "sourceLang": "en",
   "targetLang": "fr",
   "useGoogleTranslate": true
  },
  "toc": {
   "base_numbering": 1,
   "nav_menu": {},
   "number_sections": true,
   "sideBar": true,
   "skip_h1_title": false,
   "title_cell": "Table of Contents",
   "title_sidebar": "Contents",
   "toc_cell": false,
   "toc_position": {},
   "toc_section_display": true,
   "toc_window_display": false
  }
 },
 "nbformat": 4,
 "nbformat_minor": 5
}
