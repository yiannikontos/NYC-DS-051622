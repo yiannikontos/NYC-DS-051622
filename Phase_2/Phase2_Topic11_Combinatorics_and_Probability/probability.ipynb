{
 "cells": [
  {
   "cell_type": "markdown",
   "metadata": {
    "toc": true
   },
   "source": [
    "<h1>Table of Contents<span class=\"tocSkip\"></span></h1>\n",
    "<div class=\"toc\"><ul class=\"toc-item\"><li><span><a href=\"#Probabilty-Fundamentals\" data-toc-modified-id=\"Probabilty-Fundamentals-1\"><span class=\"toc-item-num\">1&nbsp;&nbsp;</span>Probabilty Fundamentals</a></span></li><li><span><a href=\"#Objectives\" data-toc-modified-id=\"Objectives-2\"><span class=\"toc-item-num\">2&nbsp;&nbsp;</span>Objectives</a></span></li><li><span><a href=\"#Set-Theory-Basics\" data-toc-modified-id=\"Set-Theory-Basics-3\"><span class=\"toc-item-num\">3&nbsp;&nbsp;</span>Set Theory Basics</a></span><ul class=\"toc-item\"><li><span><a href=\"#Set-Operations\" data-toc-modified-id=\"Set-Operations-3.1\"><span class=\"toc-item-num\">3.1&nbsp;&nbsp;</span>Set Operations</a></span></li></ul></li><li><span><a href=\"#Probability-Theory\" data-toc-modified-id=\"Probability-Theory-4\"><span class=\"toc-item-num\">4&nbsp;&nbsp;</span>Probability Theory</a></span><ul class=\"toc-item\"><li><span><a href=\"#Why-Should-I-Care-About-Probabilities?\" data-toc-modified-id=\"Why-Should-I-Care-About-Probabilities?-4.1\"><span class=\"toc-item-num\">4.1&nbsp;&nbsp;</span>Why Should I Care About Probabilities?</a></span></li><li><span><a href=\"#Probability-Terminology\" data-toc-modified-id=\"Probability-Terminology-4.2\"><span class=\"toc-item-num\">4.2&nbsp;&nbsp;</span>Probability Terminology</a></span><ul class=\"toc-item\"><li><span><a href=\"#Random-Variables\" data-toc-modified-id=\"Random-Variables-4.2.1\"><span class=\"toc-item-num\">4.2.1&nbsp;&nbsp;</span>Random Variables</a></span></li></ul></li><li><span><a href=\"#Probability-Using-Sets\" data-toc-modified-id=\"Probability-Using-Sets-4.3\"><span class=\"toc-item-num\">4.3&nbsp;&nbsp;</span>Probability Using Sets</a></span></li><li><span><a href=\"#Independence\" data-toc-modified-id=\"Independence-4.4\"><span class=\"toc-item-num\">4.4&nbsp;&nbsp;</span>Independence</a></span><ul class=\"toc-item\"><li><span><a href=\"#🧠-Knowledge-Check\" data-toc-modified-id=\"🧠-Knowledge-Check-4.4.1\"><span class=\"toc-item-num\">4.4.1&nbsp;&nbsp;</span>🧠 Knowledge Check</a></span></li></ul></li></ul></li><li><span><a href=\"#Conditional-Probability\" data-toc-modified-id=\"Conditional-Probability-5\"><span class=\"toc-item-num\">5&nbsp;&nbsp;</span>Conditional Probability</a></span><ul class=\"toc-item\"><li><span><a href=\"#Fermat-and-Pascal:-The-Unfinished-Game\" data-toc-modified-id=\"Fermat-and-Pascal:-The-Unfinished-Game-5.1\"><span class=\"toc-item-num\">5.1&nbsp;&nbsp;</span>Fermat and Pascal: The Unfinished Game</a></span></li><li><span><a href=\"#A-New-Condition\" data-toc-modified-id=\"A-New-Condition-5.2\"><span class=\"toc-item-num\">5.2&nbsp;&nbsp;</span>A New Condition</a></span></li><li><span><a href=\"#Conditional-Probability-Rules\" data-toc-modified-id=\"Conditional-Probability-Rules-5.3\"><span class=\"toc-item-num\">5.3&nbsp;&nbsp;</span>Conditional Probability Rules</a></span></li><li><span><a href=\"#Conditional-Probability-Example\" data-toc-modified-id=\"Conditional-Probability-Example-5.4\"><span class=\"toc-item-num\">5.4&nbsp;&nbsp;</span>Conditional Probability Example</a></span></li></ul></li><li><span><a href=\"#The-Law-of-Total-Probability\" data-toc-modified-id=\"The-Law-of-Total-Probability-6\"><span class=\"toc-item-num\">6&nbsp;&nbsp;</span>The Law of Total Probability</a></span><ul class=\"toc-item\"><li><span><a href=\"#Aside:-Mathematical-Notation-and-Formalism\" data-toc-modified-id=\"Aside:-Mathematical-Notation-and-Formalism-6.1\"><span class=\"toc-item-num\">6.1&nbsp;&nbsp;</span>Aside: Mathematical Notation and Formalism</a></span></li></ul></li><li><span><a href=\"#Level-Up:-More-Set-Theory\" data-toc-modified-id=\"Level-Up:-More-Set-Theory-7\"><span class=\"toc-item-num\">7&nbsp;&nbsp;</span>Level Up: More Set Theory</a></span><ul class=\"toc-item\"><li><span><a href=\"#A-Note-on-Set-Notation\" data-toc-modified-id=\"A-Note-on-Set-Notation-7.1\"><span class=\"toc-item-num\">7.1&nbsp;&nbsp;</span>A Note on Set Notation</a></span><ul class=\"toc-item\"><li><span><a href=\"#Quick-Notation-Example\" data-toc-modified-id=\"Quick-Notation-Example-7.1.1\"><span class=\"toc-item-num\">7.1.1&nbsp;&nbsp;</span>Quick Notation Example</a></span></li><li><span><a href=\"#🧠-Knowledge-Check\" data-toc-modified-id=\"🧠-Knowledge-Check-7.1.2\"><span class=\"toc-item-num\">7.1.2&nbsp;&nbsp;</span>🧠 Knowledge Check</a></span></li></ul></li><li><span><a href=\"#Empty-Set\" data-toc-modified-id=\"Empty-Set-7.2\"><span class=\"toc-item-num\">7.2&nbsp;&nbsp;</span>Empty Set</a></span></li><li><span><a href=\"#Subsets\" data-toc-modified-id=\"Subsets-7.3\"><span class=\"toc-item-num\">7.3&nbsp;&nbsp;</span>Subsets</a></span></li><li><span><a href=\"#Joint-Probability\" data-toc-modified-id=\"Joint-Probability-7.4\"><span class=\"toc-item-num\">7.4&nbsp;&nbsp;</span>Joint Probability</a></span></li><li><span><a href=\"#Python-&amp;-Sets\" data-toc-modified-id=\"Python-&amp;-Sets-7.5\"><span class=\"toc-item-num\">7.5&nbsp;&nbsp;</span>Python &amp; Sets</a></span><ul class=\"toc-item\"><li><span><a href=\"#Empty-Set\" data-toc-modified-id=\"Empty-Set-7.5.1\"><span class=\"toc-item-num\">7.5.1&nbsp;&nbsp;</span>Empty Set</a></span></li><li><span><a href=\"#Iterables\" data-toc-modified-id=\"Iterables-7.5.2\"><span class=\"toc-item-num\">7.5.2&nbsp;&nbsp;</span>Iterables</a></span></li><li><span><a href=\"#Subsets\" data-toc-modified-id=\"Subsets-7.5.3\"><span class=\"toc-item-num\">7.5.3&nbsp;&nbsp;</span>Subsets</a></span></li><li><span><a href=\"#Set-Operations---Example\" data-toc-modified-id=\"Set-Operations---Example-7.5.4\"><span class=\"toc-item-num\">7.5.4&nbsp;&nbsp;</span>Set Operations - Example</a></span></li></ul></li></ul></li><li><span><a href=\"#Level-Up:-Bayes-Theorem\" data-toc-modified-id=\"Level-Up:-Bayes-Theorem-8\"><span class=\"toc-item-num\">8&nbsp;&nbsp;</span>Level Up: Bayes Theorem</a></span></li><li><span><a href=\"#Level-Up:-Permutations-&amp;-Combinations\" data-toc-modified-id=\"Level-Up:-Permutations-&amp;-Combinations-9\"><span class=\"toc-item-num\">9&nbsp;&nbsp;</span>Level Up: Permutations &amp; Combinations</a></span><ul class=\"toc-item\"><li><ul class=\"toc-item\"><li><span><a href=\"#Permutations\" data-toc-modified-id=\"Permutations-9.0.1\"><span class=\"toc-item-num\">9.0.1&nbsp;&nbsp;</span>Permutations</a></span><ul class=\"toc-item\"><li><span><a href=\"#Easiest-Scenario\" data-toc-modified-id=\"Easiest-Scenario-9.0.1.1\"><span class=\"toc-item-num\">9.0.1.1&nbsp;&nbsp;</span>Easiest Scenario</a></span></li><li><span><a href=\"#Intermediate-Scenario\" data-toc-modified-id=\"Intermediate-Scenario-9.0.1.2\"><span class=\"toc-item-num\">9.0.1.2&nbsp;&nbsp;</span>Intermediate Scenario</a></span></li><li><span><a href=\"#Level-Up-Scenario\" data-toc-modified-id=\"Level-Up-Scenario-9.0.1.3\"><span class=\"toc-item-num\">9.0.1.3&nbsp;&nbsp;</span>Level Up Scenario</a></span></li></ul></li><li><span><a href=\"#Combinations\" data-toc-modified-id=\"Combinations-9.0.2\"><span class=\"toc-item-num\">9.0.2&nbsp;&nbsp;</span>Combinations</a></span><ul class=\"toc-item\"><li><span><a href=\"#Easier-Scenario:\" data-toc-modified-id=\"Easier-Scenario:-9.0.2.1\"><span class=\"toc-item-num\">9.0.2.1&nbsp;&nbsp;</span>Easier Scenario:</a></span></li><li><span><a href=\"#Level-Up-Scenario\" data-toc-modified-id=\"Level-Up-Scenario-9.0.2.2\"><span class=\"toc-item-num\">9.0.2.2&nbsp;&nbsp;</span>Level Up Scenario</a></span></li></ul></li></ul></li></ul></li><li><span><a href=\"#Level-Up:-Three-Events\" data-toc-modified-id=\"Level-Up:-Three-Events-10\"><span class=\"toc-item-num\">10&nbsp;&nbsp;</span>Level Up: Three Events</a></span></li></ul></div>"
   ]
  },
  {
   "cell_type": "markdown",
   "metadata": {
    "slideshow": {
     "slide_type": "slide"
    }
   },
   "source": [
    "<div style=\"color:white;\n",
    "           display:fill;\n",
    "           border-radius:5px;\n",
    "           background-color:#5642C5;\n",
    "           font-size:200%;\n",
    "           font-family:Arial;letter-spacing:0.5px\">\n",
    "\n",
    "<p width = 20%, style=\"padding: 10px;\n",
    "              color:white;\">\n",
    "Probability: The Mathematics of Uncertainty\n",
    "              \n",
    "</p>\n",
    "</div>\n",
    "\n",
    "Data Science Cohort Live NYC June 2022\n",
    "<p>Phase 2: Topic 1</p>\n",
    "<br>\n",
    "<br>\n",
    "\n",
    "<div align = \"right\">\n",
    "<img src=\"Images/flatiron-school-logo.png\" align = \"right\" width=\"200\"/>\n",
    "</div>\n",
    "    "
   ]
  },
  {
   "cell_type": "markdown",
   "metadata": {
    "heading_collapsed": true,
    "slideshow": {
     "slide_type": "slide"
    }
   },
   "source": [
    "# Probabilty Fundamentals"
   ]
  },
  {
   "cell_type": "markdown",
   "metadata": {
    "hidden": true,
    "slideshow": {
     "slide_type": "slide"
    }
   },
   "source": [
    "![xkcd](images/increased_risk_2x.png)\n",
    "> [xkcd comic 1252](https://xkcd.com/1252/)"
   ]
  },
  {
   "cell_type": "markdown",
   "metadata": {
    "heading_collapsed": true,
    "slideshow": {
     "slide_type": "slide"
    }
   },
   "source": [
    "# Objectives"
   ]
  },
  {
   "cell_type": "markdown",
   "metadata": {
    "hidden": true,
    "slideshow": {
     "slide_type": "fragment"
    }
   },
   "source": [
    "- Describe the fundamentals of probability theory\n",
    "- Describe set theory and its terminology\n",
    "- Define conditional probability"
   ]
  },
  {
   "cell_type": "markdown",
   "metadata": {
    "heading_collapsed": true,
    "slideshow": {
     "slide_type": "slide"
    }
   },
   "source": [
    "# Set Theory Basics"
   ]
  },
  {
   "cell_type": "markdown",
   "metadata": {
    "hidden": true,
    "slideshow": {
     "slide_type": "slide"
    }
   },
   "source": [
    "In probability theory, a **set** is a well-defined collection of objects (called **elements**). An element is either in a given set or not and order is not considered."
   ]
  },
  {
   "cell_type": "markdown",
   "metadata": {
    "hidden": true,
    "slideshow": {
     "slide_type": "fragment"
    }
   },
   "source": [
    "If an **element** $x$ belongs to a set $S$, then you'd write $x \\in S$. \n",
    "\n",
    "On the other hand, if $x$ does not belong to a set $S$, then you'd write $x\\notin S$."
   ]
  },
  {
   "cell_type": "markdown",
   "metadata": {
    "hidden": true,
    "slideshow": {
     "slide_type": "slide"
    }
   },
   "source": [
    "> **More Math & Details**\n",
    ">\n",
    "> Set theory is a whole branch of mathematics just like calculus or geometry so there's a lot we could talk about! We won't here but you can see some extra information in a [Level Up section](#Level-Up:-More-Set-Theory) towards the end of this notebook."
   ]
  },
  {
   "cell_type": "markdown",
   "metadata": {
    "heading_collapsed": true,
    "hidden": true,
    "slideshow": {
     "slide_type": "slide"
    }
   },
   "source": [
    "## Set Operations"
   ]
  },
  {
   "cell_type": "markdown",
   "metadata": {
    "hidden": true,
    "slideshow": {
     "slide_type": "fragment"
    }
   },
   "source": [
    "Let's first imagine two sets $A$ and $B$ with some overlapping elements\n",
    "\n",
    "![](images/sets_a_and_b.png)"
   ]
  },
  {
   "cell_type": "markdown",
   "metadata": {
    "hidden": true,
    "slideshow": {
     "slide_type": "slide"
    }
   },
   "source": [
    "The **union** of 2 sets $A$ and $B$ is the set $T$ of elements of either $A$ or $B$, or in both. We denote this with the symbol $\\cup$.\n",
    "\n",
    "\n",
    "$$\\large T = A\\cup B = B\\cup A$$"
   ]
  },
  {
   "cell_type": "markdown",
   "metadata": {
    "hidden": true,
    "slideshow": {
     "slide_type": "fragment"
    }
   },
   "source": [
    "![](images/union_a_and_b.png)"
   ]
  },
  {
   "cell_type": "markdown",
   "metadata": {
    "hidden": true,
    "slideshow": {
     "slide_type": "slide"
    }
   },
   "source": [
    "The **intersection** of two sets $A$ and $B$ is the set $V$ that contains all elements of $A$ that also belong to $B$. We denote this with the symbol $\\cap$.\n",
    "\n",
    "\n",
    "$$\\large V = A\\cap B = B\\cap A$$"
   ]
  },
  {
   "cell_type": "markdown",
   "metadata": {
    "hidden": true,
    "slideshow": {
     "slide_type": "fragment"
    }
   },
   "source": [
    "![](images/intersection_a_and_b.png)"
   ]
  },
  {
   "cell_type": "markdown",
   "metadata": {
    "heading_collapsed": true,
    "slideshow": {
     "slide_type": "slide"
    }
   },
   "source": [
    "# Probability Theory"
   ]
  },
  {
   "cell_type": "markdown",
   "metadata": {
    "hidden": true,
    "slideshow": {
     "slide_type": "fragment"
    }
   },
   "source": [
    "Probability theory is the study of the frequency of a given event occurring with respect to all possible events. In this section we'll discuss the event space & sets, calculate the probability of events, and discuss the relevance of probability theory in data science."
   ]
  },
  {
   "cell_type": "markdown",
   "metadata": {
    "heading_collapsed": true,
    "hidden": true,
    "slideshow": {
     "slide_type": "slide"
    }
   },
   "source": [
    "## Why Should I Care About Probabilities?"
   ]
  },
  {
   "cell_type": "markdown",
   "metadata": {
    "hidden": true,
    "slideshow": {
     "slide_type": "fragment"
    }
   },
   "source": [
    "Studying probabilities allows us to make better and more informed decisions, based on data previously collected. For example, understanding the fact that it is nearly impossible for us to ever win the lottery from a probabilistic standpoint deters us from using it as a source of income.\n",
    "\n",
    "Probability theory also lies at the heart of making inferences using our data, which is what statistics is all about!"
   ]
  },
  {
   "cell_type": "markdown",
   "metadata": {
    "cell_style": "split",
    "slideshow": {
     "slide_type": "slide"
    }
   },
   "source": [
    "Combined with statistics / decision theory:\n",
    "- Make optimal predictions based on limited data.\n",
    "- Limited data = incomplete information.\n",
    "- Estimate uncertainty in those predictions."
   ]
  },
  {
   "cell_type": "markdown",
   "metadata": {
    "cell_style": "split",
    "slideshow": {
     "slide_type": "fragment"
    }
   },
   "source": [
    "- Assess veracity of a statement/hypothesis\n",
    "    - Given limited set of data\n",
    "- How certain are we of estimates?"
   ]
  },
  {
   "cell_type": "markdown",
   "metadata": {
    "heading_collapsed": true,
    "hidden": true,
    "slideshow": {
     "slide_type": "slide"
    }
   },
   "source": [
    "## Probability Terminology"
   ]
  },
  {
   "cell_type": "markdown",
   "metadata": {
    "hidden": true,
    "slideshow": {
     "slide_type": "slide"
    }
   },
   "source": [
    "- An **outcome** is a possible result of a random phenomenon (e.g. a 5 on a six-sided die)\n",
    "- A **sample space** is the set of all possible outcomes for a random phenomenon (e.g. {1, 2, 3, 4, 5, 6} for rolling a six-sided die)\n",
    "- An **event** is a specific outcome of a random phenomemon (e.g. actually rolling a six-sided die and getting a 5)"
   ]
  },
  {
   "cell_type": "markdown",
   "metadata": {
    "heading_collapsed": true,
    "hidden": true,
    "slideshow": {
     "slide_type": "slide"
    }
   },
   "source": [
    "### Random Variables"
   ]
  },
  {
   "cell_type": "markdown",
   "metadata": {
    "hidden": true,
    "slideshow": {
     "slide_type": "fragment"
    }
   },
   "source": [
    "![Random Number Generator](images/random_number_generator_comic.gif)\n",
    "\n",
    "> [Source: _Dilbert_ comic](https://dilbert.com/strip/2001-10-25)"
   ]
  },
  {
   "cell_type": "markdown",
   "metadata": {
    "hidden": true,
    "slideshow": {
     "slide_type": "fragment"
    }
   },
   "source": [
    "> A **random variable** has an outcome that can take on different values, resulting from a random phenomenon"
   ]
  },
  {
   "cell_type": "markdown",
   "metadata": {
    "hidden": true,
    "slideshow": {
     "slide_type": "slide"
    }
   },
   "source": [
    "- A random variable can either be continuous or discrete\n",
    "    - **Continuous**: the variable can have any values within a range (e.g. a person's height)\n",
    "    - **Discrete**: the variable can only have a finite subset of values within a range (e.g. number of cars owned)"
   ]
  },
  {
   "cell_type": "markdown",
   "metadata": {
    "hidden": true,
    "slideshow": {
     "slide_type": "fragment"
    }
   },
   "source": [
    "This allows us think of events in mathematical terms and use mathematical notation to abstract the ideas."
   ]
  },
  {
   "cell_type": "markdown",
   "metadata": {
    "hidden": true,
    "slideshow": {
     "slide_type": "slide"
    }
   },
   "source": [
    "For example, let's state that $Y$ is the number of tails after $10$ flips.\n",
    "\n",
    "Thus we can write these examples:\n",
    "\n",
    "- $P(Y=3)$ is _the probability of having $3$ tails after flipping a coin $10$ times_\n",
    "- $P(Y\\le8)$ is _the probability of having $8$ or fewer tails after flipping a coin $10$ times_\n",
    "- $P(Y\\text{ is even})$ is _the probability that the number of tails is even after flipping a coin $10$ times_\n",
    "\n",
    "Hopefully, you can now see the power of abstracting these outcomes with notation."
   ]
  },
  {
   "cell_type": "markdown",
   "metadata": {
    "heading_collapsed": true,
    "hidden": true,
    "slideshow": {
     "slide_type": "slide"
    }
   },
   "source": [
    "## Probability Using Sets"
   ]
  },
  {
   "cell_type": "markdown",
   "metadata": {
    "hidden": true,
    "slideshow": {
     "slide_type": "fragment"
    }
   },
   "source": [
    "In its most basic form, the **probability** of an event occurring is the size of the successful outcome set divided by the size of the sample space. In some ways, probability is just about counting outcomes."
   ]
  },
  {
   "cell_type": "markdown",
   "metadata": {
    "hidden": true,
    "slideshow": {
     "slide_type": "slide"
    }
   },
   "source": [
    "**Example**: What is the probability of rolling an even number on a six-sided die?\n",
    "\n",
    "* Successful outcomes: {2, 4, 6} has size 3\n",
    "* Sample space: {1, 2, 3, 4, 5, 6} has size 6\n",
    "* Probability = 3/6 = 1/2 = 50%"
   ]
  },
  {
   "cell_type": "markdown",
   "metadata": {
    "hidden": true,
    "slideshow": {
     "slide_type": "fragment"
    }
   },
   "source": [
    "We sometimes write probability statements using notation like $P(E) = 0.5$, where $E$ is an event, such as rolling an even number on a six sided die."
   ]
  },
  {
   "cell_type": "markdown",
   "metadata": {
    "heading_collapsed": true,
    "hidden": true,
    "slideshow": {
     "slide_type": "slide"
    }
   },
   "source": [
    "## Independence"
   ]
  },
  {
   "cell_type": "markdown",
   "metadata": {
    "hidden": true,
    "slideshow": {
     "slide_type": "fragment"
    }
   },
   "source": [
    "A special condition is when the outcome of $A$ has no bearing on the outcome of $B$. We say these two events are **independent** (e.g. rolling a die and tossing a coin)."
   ]
  },
  {
   "cell_type": "markdown",
   "metadata": {
    "hidden": true,
    "slideshow": {
     "slide_type": "fragment"
    }
   },
   "source": [
    "Formally, *$A$ and $B$ are independent* if and only if the probability that *both* $A$ *and* $B$ happen is:\n",
    "\n",
    "$$P(A \\cap B) = P(A) \\cdot P(B)$$"
   ]
  },
  {
   "cell_type": "markdown",
   "metadata": {
    "hidden": true,
    "slideshow": {
     "slide_type": "slide"
    }
   },
   "source": [
    "Hopefully, we can see where this comes from when two events are independent. If the the event doesn't have any effect on the other, then the chances of them happening is probability of the first event multiplied by the second."
   ]
  },
  {
   "cell_type": "markdown",
   "metadata": {
    "hidden": true,
    "slideshow": {
     "slide_type": "slide"
    }
   },
   "source": [
    "> **NOTE**\n",
    ">\n",
    "> In many cases we'll treat events as independent for convenience even if they technically are not independent from one another. Usually you can ignore very small dependence effects.\n",
    ">\n",
    "> For example, we would likely describe two coin flips of the same coin (two events) to be independent from one another. But technically speaking, maybe after a coin flip the side that the coin that lands face-down is damaged and slightly affects future coin flips. In this case, we likely would ignore this affect and assume a sequence of coin flips to be independent."
   ]
  },
  {
   "cell_type": "markdown",
   "metadata": {
    "slideshow": {
     "slide_type": "slide"
    }
   },
   "source": [
    "## Joint Probability"
   ]
  },
  {
   "cell_type": "markdown",
   "metadata": {
    "slideshow": {
     "slide_type": "fragment"
    }
   },
   "source": [
    "Sometimes we want to know the probability of two different events occurring - we refer to this as **joint probability**."
   ]
  },
  {
   "cell_type": "markdown",
   "metadata": {
    "slideshow": {
     "slide_type": "fragment"
    }
   },
   "source": [
    "The probability that *either* $A$ *or* $B$ happens is:\n",
    "\n",
    "$$P(A  \\cup  B) = P(A) + P(B) - P(A  \\cap  B)$$"
   ]
  },
  {
   "cell_type": "markdown",
   "metadata": {
    "slideshow": {
     "slide_type": "slide"
    }
   },
   "source": [
    "![](images/additive_rule.png)"
   ]
  },
  {
   "cell_type": "markdown",
   "metadata": {
    "heading_collapsed": true,
    "hidden": true,
    "slideshow": {
     "slide_type": "slide"
    }
   },
   "source": [
    "### 🧠 Knowledge Check"
   ]
  },
  {
   "cell_type": "markdown",
   "metadata": {
    "hidden": true,
    "slideshow": {
     "slide_type": "slide"
    }
   },
   "source": [
    "**AND Question**: What is the probability of rolling a 5 on a fair die _and_ getting a tails on a fair coin toss?"
   ]
  },
  {
   "cell_type": "markdown",
   "metadata": {
    "slideshow": {
     "slide_type": "fragment"
    }
   },
   "source": [
    "\n",
    "<p>\n",
    "</p>\n",
    "<details>\n",
    "    <summary><b><u>Answer</u></b></summary>\n",
    "\n",
    "Answer: Of the six possible outcomes on a die roll only one (the 5) will do. So the chance of getting a 5 on a die is 1/6. Of the two possible outcomes on a coin toss again only one (tails) will do.\n",
    "\n",
    "So the calculation is: $\\left(\\frac{1}{6}\\right)\\left(\\frac{1}{2}\\right) = \\frac{1}{12}$\n",
    "\n",
    "\n",
    "\n",
    "\n",
    "</details>"
   ]
  },
  {
   "cell_type": "markdown",
   "metadata": {
    "hidden": true,
    "slideshow": {
     "slide_type": "slide"
    }
   },
   "source": [
    "**OR Question**: What is the probability of rolling a 5 on a die _or_ getting a tails on a coin toss?"
   ]
  },
  {
   "cell_type": "markdown",
   "metadata": {
    "slideshow": {
     "slide_type": "fragment"
    }
   },
   "source": [
    "\n",
    "<p>\n",
    "</p>\n",
    "<details>\n",
    "    <summary><b><u>Answer</u></b></summary>\n",
    "\n",
    "Answer: Here we want to count all the die-coin combinations where we have a 5 on the die AND all the die-coin combinations where we have a tails on the coin. But one thing we have to keep in mind is the following:\n",
    "\n",
    "When we count the 5-on-the-die combinations, we'll count two: 5-heads and **5-tails**.\n",
    "When we count the tails-on-the-coin combinations, we'll count six: 1-tails, 2-tails, 3-tails, 4-tails, **5-tails**, and 6-tails.\n",
    "\n",
    "But then we've counted the combination where **both** the 5 and the tails occur **twice**.\n",
    "\n",
    "So the correct calculation is the sum of the individual probabilities **less the probability of their intersection**:\n",
    "\n",
    "$\\frac{1}{6} + \\frac{1}{2} - \\left(\\frac{1}{6}\\right)\\left(\\frac{1}{2}\\right) = \\frac{7}{12}$\n",
    "</details>"
   ]
  },
  {
   "cell_type": "markdown",
   "metadata": {
    "heading_collapsed": true,
    "slideshow": {
     "slide_type": "slide"
    }
   },
   "source": [
    "# Conditional Probability"
   ]
  },
  {
   "cell_type": "markdown",
   "metadata": {
    "heading_collapsed": true,
    "hidden": true,
    "slideshow": {
     "slide_type": "fragment"
    }
   },
   "source": [
    "## Fermat and Pascal: The Unfinished Game"
   ]
  },
  {
   "cell_type": "markdown",
   "metadata": {
    "hidden": true,
    "slideshow": {
     "slide_type": "fragment"
    }
   },
   "source": [
    "> This example borrowed from Peter Norvig's excellent repo [here](https://github.com/norvig/pytudes)."
   ]
  },
  {
   "cell_type": "markdown",
   "metadata": {
    "hidden": true,
    "slideshow": {
     "slide_type": "slide"
    }
   },
   "source": [
    "<table>\n",
    "<tr><td><img src=\"https://upload.wikimedia.org/wikipedia/commons/thumb/9/98/Pierre_de_Fermat2.png/140px-Pierre_de_Fermat2.png\"><center><a href=\"https://en.wikipedia.org/wiki/Pierre_de_Fermat\">Pierre de Fermat</a><br>1654\n",
    "<td><img src=\"https://www.umass.edu/wsp/images/pascal.jpg\"><center><a href=\"https://en.wikipedia.org/wiki/Blaise_Pascal\">Blaise Pascal]</a><br>1654\n",
    "</table>"
   ]
  },
  {
   "cell_type": "markdown",
   "metadata": {
    "hidden": true,
    "slideshow": {
     "slide_type": "slide"
    }
   },
   "source": [
    "Consider a gambling game consisting of tossing a coin repeatedly. Player H wins the game as soon as a total of 10 heads come up, and T wins if a total of 10 tails come up before H wins. If the game is interrupted when H has 8 heads and T has 7 tails, how should the pot of money (which happens to be 100 Francs) be split?  Here are some proposals, and arguments against them:\n",
    "- It is uncertain, so just split the pot 50-50. \n",
    "    - *No, because surely H is more likely to win.*\n",
    "- In proportion to each player's current score, so H gets a 8/(8+7) share. \n",
    "    - *No, because if the score was 0 heads to 1 tail, H should get more than 0/1.*\n",
    "- In proportion to how many tosses the opponent needs to win, so H gets 3/(3+2). \n",
    "    - *This seems better, but no, if H is 9 away and T is only 1 away from winning, then it seems that giving H a 1/10 share is too much.*"
   ]
  },
  {
   "cell_type": "markdown",
   "metadata": {
    "hidden": true,
    "slideshow": {
     "slide_type": "slide"
    }
   },
   "source": [
    "In 1654, Blaise Pascal and Pierre de Fermat corresponded on this problem, with Fermat [writing](http://mathforum.org/isaac/problems/prob1.html):\n",
    "\n",
    ">Dearest Blaise,\n",
    ">\n",
    ">As to the problem of how to divide the 100 Francs, I think I have found a solution that you will find to be fair. Seeing as I needed only two points to win the game, and you needed 3, I think we can establish that after four more tosses of the coin, the game would have been over. For, in those four tosses, if you did not get the necessary 3 points for your victory, this would imply that I had in fact gained the necessary 2 points for my victory. In a similar manner, if I had not achieved the necessary 2 points for my victory, this would imply that you had in fact achieved at least 3 points and had therefore won the game. Thus, I believe the following list of possible endings to the game is exhaustive. I have denoted 'heads' by an 'h', and tails by a 't.' I have starred the outcomes that indicate a win for myself.\n",
    ">\n",
    ">       h h h h *       h h h t *       h h t h *       h h t t *\n",
    ">       h t h h *       h t h t *       h t t h *       h t t t\n",
    ">       t h h h *       t h h t *       t h t h *       t h t t\n",
    ">       t t h h *       t t h t         t t t h         t t t t\n",
    ">\n",
    ">I think you will agree that all of these outcomes are equally likely. Thus I believe that we should divide the stakes by the ration 11:5 in my favor, that is, I should receive $\\frac{11}{16}\\cdot100$ = 68.75 Francs, while you should receive 31.25 Francs.\n",
    ">\n",
    ">\n",
    ">I hope all is well in Paris,\n",
    ">\n",
    ">Your friend and colleague,\n",
    ">\n",
    ">Pierre"
   ]
  },
  {
   "cell_type": "markdown",
   "metadata": {
    "hidden": true,
    "slideshow": {
     "slide_type": "slide"
    }
   },
   "source": [
    "Pascal agreed with this solution, and [replied](http://mathforum.org/isaac/problems/prob2.html) with a generalization that made use of his previous invention, Pascal's Triangle. There's even [a book](https://smile.amazon.com/Unfinished-Game-Pascal-Fermat-Seventeenth-Century/dp/0465018963?sa-no-redirect=1) about it."
   ]
  },
  {
   "cell_type": "markdown",
   "metadata": {
    "heading_collapsed": true,
    "hidden": true,
    "slideshow": {
     "slide_type": "slide"
    }
   },
   "source": [
    "## A New Condition"
   ]
  },
  {
   "cell_type": "markdown",
   "metadata": {
    "hidden": true,
    "slideshow": {
     "slide_type": "slide"
    }
   },
   "source": [
    "It's an obvious point that the probability of either man winning depends on the results of the coin flips so far. One might like to know not just what, say, Fermat's chances of winning are at this point but also what his chances of  winning would be **given that the next flip results in a 'heads'**. This is asking about a ***conditional probability***."
   ]
  },
  {
   "cell_type": "markdown",
   "metadata": {
    "hidden": true,
    "slideshow": {
     "slide_type": "slide"
    }
   },
   "source": [
    "The probability that Fermat wins the game may be 68.75%, but what would it be if the next flip is 'heads'?\n",
    "\n",
    "Let's define...\n",
    "* Event $F$ as Fermat winning the game.\n",
    "* Event $H$ as the next flip turning up heads\n",
    "\n",
    "We can write $P(F | H)$ as the **conditional probability** that Fermat wins _given_ that the next flip is heads."
   ]
  },
  {
   "cell_type": "markdown",
   "metadata": {
    "hidden": true,
    "slideshow": {
     "slide_type": "slide"
    }
   },
   "source": [
    "If the next flip is heads, this would make the score 9H - 7T, and so the remaining possible outcomes would then be:\n",
    "\n",
    "- H (50% chance; Fermat wins 10H-7T)\n",
    "- TH (25% chance; Fermat  wins 10H-8T)\n",
    "- TTH (12.5% chance; Fermat wins 10H-9T)\n",
    "- TTT (12.5% chance; Fermat loses 9H-10T)\n",
    "\n",
    "So the probability that Fermat wins, **given that the next flip is 'heads'**, $P(F | H)$, is 87.5%."
   ]
  },
  {
   "cell_type": "markdown",
   "metadata": {
    "hidden": true,
    "slideshow": {
     "slide_type": "fragment"
    }
   },
   "source": [
    "The probability of Fermat winning has increased, which is to say that the events of (a) the next flip being 'heads' and (b) Fermat winning the game are **not independent**: (a) makes (b) more likely."
   ]
  },
  {
   "cell_type": "markdown",
   "metadata": {
    "heading_collapsed": true,
    "hidden": true,
    "slideshow": {
     "slide_type": "slide"
    }
   },
   "source": [
    "## Conditional Probability Rules"
   ]
  },
  {
   "cell_type": "markdown",
   "metadata": {
    "hidden": true,
    "slideshow": {
     "slide_type": "fragment"
    }
   },
   "source": [
    "When events _are_ independent, the rule for probabilistic AND (I'll use '$\\cap$' below) is simple:\n",
    "\n",
    "$$\\huge P(a\\cap b) = P(a) P(b)$$"
   ]
  },
  {
   "cell_type": "markdown",
   "metadata": {
    "hidden": true,
    "slideshow": {
     "slide_type": "fragment"
    }
   },
   "source": [
    "But the more general rule, which includes non-independent events, is:\n",
    "\n",
    "$$\\huge P(a\\cap b) = P(a | b) P(b)$$."
   ]
  },
  {
   "cell_type": "markdown",
   "metadata": {
    "hidden": true,
    "slideshow": {
     "slide_type": "slide"
    }
   },
   "source": [
    "In fact, this is the definition of conditional probability. Rearranging:\n",
    "\n",
    "$$\\huge P(a | b) = \\frac{P(a\\cap b)}{P(b)}$$"
   ]
  },
  {
   "cell_type": "markdown",
   "metadata": {
    "hidden": true,
    "slideshow": {
     "slide_type": "slide"
    }
   },
   "source": [
    "> Note that, when $a$ and $b$ are independent, then we have:\n",
    ">\n",
    "> $$\\begin{align}\n",
    "    P(a | b) &= \\frac{P(a\\cap b)}{P(b)} \\\\\n",
    "             &= \\frac{P(a) P(b)}{P(b)} \\\\\n",
    "             &= P(a)\n",
    "\\end{align}$$"
   ]
  },
  {
   "cell_type": "markdown",
   "metadata": {
    "heading_collapsed": true,
    "hidden": true,
    "slideshow": {
     "slide_type": "slide"
    }
   },
   "source": [
    "## Conditional Probability Example"
   ]
  },
  {
   "cell_type": "markdown",
   "metadata": {
    "hidden": true,
    "slideshow": {
     "slide_type": "fragment"
    }
   },
   "source": [
    "Let's see how we can use these definitions to solve a conditional probability problem.\n",
    "\n",
    "Suppose we have the following probabilities:\n",
    "\n",
    "- The probability of rain tomorrow is 0.8;\n",
    "- The probability that I take my umbrella tomorrow, given that it rains, is 0.9.\n",
    "\n",
    "What is the probability that *both* (a) it rains tomorrow and (b) I take my umbrella?"
   ]
  },
  {
   "cell_type": "code",
   "execution_count": null,
   "metadata": {
    "hidden": true,
    "slideshow": {
     "slide_type": "slide"
    }
   },
   "outputs": [],
   "source": [
    "prob_rain = 0.8                           # P(r)\n",
    "prob_umb_if_rain = 0.9                    # P(u | r)\n",
    "\n",
    "prob_rain_and_umb = 0.8 * 0.9             # P(r AND u)\n",
    "prob_rain_and_umb"
   ]
  },
  {
   "cell_type": "markdown",
   "metadata": {
    "hidden": true,
    "slideshow": {
     "slide_type": "slide"
    }
   },
   "source": [
    "> **NOTE**\n",
    ">\n",
    "> This approaches something called ***Bayes's Theorem***. There's a bit more in [this _Level Up_ section](#Level-Up:-Bayes-Theorem). We'll also see more of this in a future lecture."
   ]
  },
  {
   "cell_type": "markdown",
   "metadata": {
    "heading_collapsed": true,
    "slideshow": {
     "slide_type": "slide"
    }
   },
   "source": [
    "# The Law of Total Probability"
   ]
  },
  {
   "cell_type": "markdown",
   "metadata": {
    "hidden": true,
    "slideshow": {
     "slide_type": "fragment"
    }
   },
   "source": [
    "Sometimes we want to calculate an **unconditional** probability by making use of some conditional probabilities. "
   ]
  },
  {
   "cell_type": "markdown",
   "metadata": {
    "hidden": true,
    "slideshow": {
     "slide_type": "slide"
    }
   },
   "source": [
    "Suppose we want to calculate the probability of $e$, the event that Two-Face will free his hostages.\n",
    "\n",
    "Now like any good cartoon villain, Two-Face has the ridiculous quirk that he makes his decisions partially dictated from his coin's flip."
   ]
  },
  {
   "cell_type": "markdown",
   "metadata": {
    "hidden": true,
    "slideshow": {
     "slide_type": "fragment"
    }
   },
   "source": [
    "![](images/two_faces_coin.jpg)"
   ]
  },
  {
   "cell_type": "markdown",
   "metadata": {
    "hidden": true,
    "slideshow": {
     "slide_type": "slide"
    }
   },
   "source": [
    "Since Two-Face is a pretty bad dude, he still does the bad thing even if his coin lands \"heads\". So let's suppose we express this like below:\n",
    "\n",
    "- $P(e | H) = 0.9$\n",
    "- $P(e | T) = 0.1$\n",
    "\n",
    "where $H$ is the event of a particular coin toss coming up \"heads\" and $T$ is the event of that same coin toss coming up \"tails\". "
   ]
  },
  {
   "cell_type": "markdown",
   "metadata": {
    "hidden": true,
    "slideshow": {
     "slide_type": "slide"
    }
   },
   "source": [
    "Suppose we also know that the coin is weighted unfairly (Two-Face is one bad dude), in such a way that the coin has a $40\\%$ chance of coming up \"heads\" and a $60\\%$ chance of coming up \"tails\":\n",
    "\n",
    "- $P(H) = 0.4$\n",
    "- $P(T) = 0. 6$"
   ]
  },
  {
   "cell_type": "markdown",
   "metadata": {
    "hidden": true,
    "slideshow": {
     "slide_type": "fragment"
    }
   },
   "source": [
    "We can now solve the original question of the probability that Two-Face will free his hostages."
   ]
  },
  {
   "cell_type": "markdown",
   "metadata": {
    "hidden": true,
    "slideshow": {
     "slide_type": "slide"
    }
   },
   "source": [
    "What we really want to know is $P(e)$, the probability that Two-Face will free his hostages. So we calculate: \n",
    "\n",
    "$$\\begin{align}\n",
    "P(e) &= P(e | H) P(H) + P(e | T) P(T) \\\\\n",
    "     &= (0.9)(0.4) + (0.1)(0.6)  \\\\\n",
    "     &= 0.36 + 0.06 \\\\\n",
    "     &= 0.42\n",
    "\\end{align}$$"
   ]
  },
  {
   "cell_type": "markdown",
   "metadata": {
    "hidden": true,
    "slideshow": {
     "slide_type": "fragment"
    }
   },
   "source": [
    "Not great; we may need Batman to step in and alter the conditional probabilities"
   ]
  },
  {
   "cell_type": "markdown",
   "metadata": {
    "heading_collapsed": true,
    "hidden": true,
    "slideshow": {
     "slide_type": "slide"
    }
   },
   "source": [
    "## Aside: Mathematical Notation and Formalism"
   ]
  },
  {
   "cell_type": "markdown",
   "metadata": {
    "hidden": true,
    "slideshow": {
     "slide_type": "fragment"
    }
   },
   "source": [
    "Notice that $H$ and $T$ together have an interesting relationship. In particular:\n",
    "\n",
    "- $P(H\\cap T) = 0$, i.e. the two events are mutually *exclusive*; and\n",
    "- $P(H\\cup T) = 1$, i.e. the two events are jointly *exhaustive* of all possibilities."
   ]
  },
  {
   "cell_type": "markdown",
   "metadata": {
    "hidden": true,
    "slideshow": {
     "slide_type": "fragment"
    }
   },
   "source": [
    "Any set of two or more events with these two features (where, strictly, for no event $z$ do we have $P(z) = 0$) is said to **partition** the space of possibilities. In our case, we have $\\Omega = \\{H, T\\}$."
   ]
  },
  {
   "cell_type": "markdown",
   "metadata": {
    "hidden": true,
    "slideshow": {
     "slide_type": "fragment"
    }
   },
   "source": [
    "For an arbitrary partition, $\\Omega = \\{\\xi_1, ..., \\xi_n\\}$, the ***law of total probability*** tells us the following:\n",
    "\n",
    "$P(e) = P(e\\cap\\xi_1) + ... + P(e\\cap\\xi_n) = P(e | \\xi_1)\\times P(\\xi_1) + ... + P(e | \\xi_n)\\times P(\\xi_n)$."
   ]
  },
  {
   "cell_type": "markdown",
   "metadata": {
    "heading_collapsed": true
   },
   "source": [
    "# Level Up: More Set Theory"
   ]
  },
  {
   "cell_type": "markdown",
   "metadata": {
    "heading_collapsed": true,
    "hidden": true
   },
   "source": [
    "## A Note on Set Notation"
   ]
  },
  {
   "cell_type": "markdown",
   "metadata": {
    "hidden": true
   },
   "source": [
    "We usually denote sets with curly braces $\\large \\{\\}$ with elements within them. "
   ]
  },
  {
   "cell_type": "markdown",
   "metadata": {
    "hidden": true
   },
   "source": [
    "For example, the following set $A$ has the numbers $0,3,5,6,7,8,9$ in it: \n",
    "\n",
    "$$\\large \\{8,6,7,5,3,0,9\\}$$"
   ]
  },
  {
   "cell_type": "markdown",
   "metadata": {
    "hidden": true
   },
   "source": [
    "Sometimes, there are a pattern of elements/values in a set and it'd be tough to write them down. So we use a special notation to denote a set $S$:\n",
    "\n",
    "$$\\large S = \\{x \\mid x \\in T, \\text{other conditions} \\}$$\n",
    "\n",
    "where:\n",
    "- $x$ is an element in $S$\n",
    "- $|$ is read as \"such that\" and denotes that $x$ must fulfill the following conditions\n",
    "- $x\\in T$ means $x$ is from some other defined set $T$\n",
    "- Followed by other conditions on the elements ($x$) of $S$"
   ]
  },
  {
   "cell_type": "markdown",
   "metadata": {
    "heading_collapsed": true,
    "hidden": true
   },
   "source": [
    "### Quick Notation Example"
   ]
  },
  {
   "cell_type": "markdown",
   "metadata": {
    "hidden": true
   },
   "source": [
    "If we defined a set to include all numbers less than $3$, it'd be tough to write down all the those numbers. This would not only include integers such as $2,1,0,-1,\\cdots)$ (denoted with $\\mathbb{Z}$) but also numbers like $\\pi, \\sqrt{2}, 1.5,  \\frac{1}{3},$ and _infinitely_ more numbers. Turns out these are [_real numbers_]() (denoted with $\\mathbb{R}$). "
   ]
  },
  {
   "cell_type": "markdown",
   "metadata": {
    "hidden": true
   },
   "source": [
    "So to save on paper, we might instead write:\n",
    "\n",
    "$$\\large \\{x \\mid x \\in \\mathbb{R}, x \\lt 6 \\}$$"
   ]
  },
  {
   "cell_type": "markdown",
   "metadata": {
    "heading_collapsed": true,
    "hidden": true
   },
   "source": [
    "### 🧠 Knowledge Check"
   ]
  },
  {
   "cell_type": "markdown",
   "metadata": {
    "hidden": true
   },
   "source": [
    "What numbers would be included in this set?\n",
    "\n",
    "$$\\large \\{x \\mid x \\in \\mathbb{Z}, 0 \\leq x \\leq 20 \\}$$"
   ]
  },
  {
   "cell_type": "markdown",
   "metadata": {
    "heading_collapsed": true,
    "hidden": true
   },
   "source": [
    "## Empty Set"
   ]
  },
  {
   "cell_type": "markdown",
   "metadata": {
    "hidden": true
   },
   "source": [
    "The **empty set**, written as $\\emptyset$ or { }, has no elements."
   ]
  },
  {
   "cell_type": "markdown",
   "metadata": {
    "hidden": true
   },
   "source": [
    "Weirdly enough, a set could include $\\emptyset$:\n",
    "\n",
    "$$\\large \\{\\emptyset, 1, 2\\}$$\n",
    "\n",
    "The above set would have ***three*** elements in it"
   ]
  },
  {
   "cell_type": "markdown",
   "metadata": {
    "hidden": true
   },
   "source": [
    "> In set theory, turns out having \"nothing\" is still something."
   ]
  },
  {
   "cell_type": "markdown",
   "metadata": {
    "heading_collapsed": true,
    "hidden": true,
    "slideshow": {
     "slide_type": "slide"
    }
   },
   "source": [
    "## Subsets"
   ]
  },
  {
   "cell_type": "markdown",
   "metadata": {
    "hidden": true,
    "slideshow": {
     "slide_type": "slide"
    }
   },
   "source": [
    "Set $T$ is a **subset** of set $S$ if every element in set $T$ is also in set $S$. The mathematical notation for a subset is $T \\subset S$."
   ]
  },
  {
   "cell_type": "markdown",
   "metadata": {
    "hidden": true
   },
   "source": [
    "> **NOTE**\n",
    ">\n",
    "> $\\emptyset$ is a subset of every set. (_Every set has the set of nothing_)"
   ]
  },
  {
   "cell_type": "markdown",
   "metadata": {
    "heading_collapsed": true,
    "hidden": true
   },
   "source": [
    "## Python & Sets"
   ]
  },
  {
   "cell_type": "markdown",
   "metadata": {
    "hidden": true
   },
   "source": [
    "Python has a [`set` type](https://docs.python.org/3/library/stdtypes.html#set) and can be useful since they follow the mathematical rules of sets!"
   ]
  },
  {
   "cell_type": "markdown",
   "metadata": {
    "hidden": true
   },
   "source": [
    "In Python, if I want to make a set, I can use the base function `set()`, or I can use '{' and '}'. "
   ]
  },
  {
   "cell_type": "code",
   "execution_count": null,
   "metadata": {
    "hidden": true
   },
   "outputs": [],
   "source": [
    "a = set([1, 2])"
   ]
  },
  {
   "cell_type": "code",
   "execution_count": null,
   "metadata": {
    "hidden": true
   },
   "outputs": [],
   "source": [
    "b = {1, 2}"
   ]
  },
  {
   "cell_type": "code",
   "execution_count": null,
   "metadata": {
    "hidden": true
   },
   "outputs": [],
   "source": [
    "a == b"
   ]
  },
  {
   "cell_type": "code",
   "execution_count": null,
   "metadata": {
    "hidden": true
   },
   "outputs": [],
   "source": [
    "a1 = {2, 1}\n",
    "\n",
    "a1 == a"
   ]
  },
  {
   "cell_type": "markdown",
   "metadata": {
    "heading_collapsed": true,
    "hidden": true
   },
   "source": [
    "### Empty Set"
   ]
  },
  {
   "cell_type": "markdown",
   "metadata": {
    "hidden": true
   },
   "source": [
    "The **empty set**, written as $\\emptyset$ or { }, has no elements. Just remember that in Python, `{}` will initiate an empty _dictionary_, not a set."
   ]
  },
  {
   "cell_type": "code",
   "execution_count": null,
   "metadata": {
    "hidden": true,
    "scrolled": true
   },
   "outputs": [],
   "source": [
    "type({})"
   ]
  },
  {
   "cell_type": "code",
   "execution_count": null,
   "metadata": {
    "hidden": true
   },
   "outputs": [],
   "source": [
    "m = set()"
   ]
  },
  {
   "cell_type": "code",
   "execution_count": null,
   "metadata": {
    "hidden": true
   },
   "outputs": [],
   "source": [
    "type(m)"
   ]
  },
  {
   "cell_type": "code",
   "execution_count": null,
   "metadata": {
    "hidden": true
   },
   "outputs": [],
   "source": [
    "print(m)"
   ]
  },
  {
   "cell_type": "markdown",
   "metadata": {
    "heading_collapsed": true,
    "hidden": true
   },
   "source": [
    "### Iterables"
   ]
  },
  {
   "cell_type": "code",
   "execution_count": null,
   "metadata": {
    "hidden": true
   },
   "outputs": [],
   "source": [
    "a = set(['greg'])"
   ]
  },
  {
   "cell_type": "code",
   "execution_count": null,
   "metadata": {
    "hidden": true
   },
   "outputs": [],
   "source": [
    "b = {'greg'}"
   ]
  },
  {
   "cell_type": "code",
   "execution_count": null,
   "metadata": {
    "hidden": true
   },
   "outputs": [],
   "source": [
    "c = set('greg')"
   ]
  },
  {
   "cell_type": "code",
   "execution_count": null,
   "metadata": {
    "hidden": true
   },
   "outputs": [],
   "source": [
    "a == b"
   ]
  },
  {
   "cell_type": "code",
   "execution_count": null,
   "metadata": {
    "hidden": true
   },
   "outputs": [],
   "source": [
    "a == c"
   ]
  },
  {
   "cell_type": "code",
   "execution_count": null,
   "metadata": {
    "hidden": true
   },
   "outputs": [],
   "source": [
    "a"
   ]
  },
  {
   "cell_type": "code",
   "execution_count": null,
   "metadata": {
    "hidden": true
   },
   "outputs": [],
   "source": [
    "c"
   ]
  },
  {
   "cell_type": "markdown",
   "metadata": {
    "heading_collapsed": true,
    "hidden": true,
    "slideshow": {
     "slide_type": "slide"
    }
   },
   "source": [
    "### Subsets"
   ]
  },
  {
   "cell_type": "code",
   "execution_count": null,
   "metadata": {
    "hidden": true
   },
   "outputs": [],
   "source": [
    "c"
   ]
  },
  {
   "cell_type": "code",
   "execution_count": null,
   "metadata": {
    "hidden": true
   },
   "outputs": [],
   "source": [
    "d = set(['g', 'r'])"
   ]
  },
  {
   "cell_type": "code",
   "execution_count": null,
   "metadata": {
    "hidden": true
   },
   "outputs": [],
   "source": [
    "d.issubset(c)"
   ]
  },
  {
   "cell_type": "code",
   "execution_count": null,
   "metadata": {
    "hidden": true
   },
   "outputs": [],
   "source": [
    "m = set()\n",
    "m.issubset(c)"
   ]
  },
  {
   "cell_type": "markdown",
   "metadata": {
    "heading_collapsed": true,
    "hidden": true
   },
   "source": [
    "### Set Operations - Example"
   ]
  },
  {
   "cell_type": "markdown",
   "metadata": {
    "hidden": true,
    "slideshow": {
     "slide_type": "slide"
    }
   },
   "source": [
    "We are trying to create rooming arrangements based on staff interest for a staff trip. <br>\n",
    "\n",
    "Who should room with whom based on shared interests?"
   ]
  },
  {
   "cell_type": "code",
   "execution_count": null,
   "metadata": {
    "hidden": true,
    "slideshow": {
     "slide_type": "fragment"
    }
   },
   "outputs": [],
   "source": [
    "Robin = {\"art\", \"traveling\", \"wine\", \"doodling\", \"tech\", \"gadgets\"}\n",
    "Rob = {\"rock-climbing\", \"traveling\", \"dad jokes\", \"ice cream\"}\n",
    "Alison = {\"wine\", \"traveling\", \"Schitts Creek\", \"dogs\"}\n",
    "Su = {\"Schitts Creek\", \"dogs\", \"tarot card reading\", \"croquet\", \"taxonomy\"}\n",
    "Molly = {\"wine\", \"ice cream\", \"dogs\", \"zookeeping\", \"traveling\"}"
   ]
  },
  {
   "cell_type": "code",
   "execution_count": null,
   "metadata": {
    "hidden": true
   },
   "outputs": [],
   "source": [
    "Robin.intersection(Alison)"
   ]
  },
  {
   "cell_type": "code",
   "execution_count": null,
   "metadata": {
    "hidden": true
   },
   "outputs": [],
   "source": [
    "Rob.intersection(Alison)"
   ]
  },
  {
   "cell_type": "markdown",
   "metadata": {
    "hidden": true,
    "slideshow": {
     "slide_type": "slide"
    }
   },
   "source": [
    "**Prompt**: What would the union of the sets `Rob` and `Alison` tell us?"
   ]
  },
  {
   "cell_type": "code",
   "execution_count": null,
   "metadata": {
    "hidden": true
   },
   "outputs": [],
   "source": [
    "Rob.union(Alison)"
   ]
  },
  {
   "cell_type": "markdown",
   "metadata": {
    "heading_collapsed": true
   },
   "source": [
    "# Level Up: Bayes Theorem"
   ]
  },
  {
   "cell_type": "markdown",
   "metadata": {
    "hidden": true
   },
   "source": [
    "Intuitively, we expect that $P(a\\cap b) = P(b\\cap a)$, so we could equally well write:\n",
    "\n",
    "- $P(a\\cap b) = P(b | a)\\times P(a)$.\n",
    "\n",
    "This equivalence leads to an important theorem of conditional probability:\n",
    "\n",
    "$P(a | b)\\times P(b) = P(b | a)\\times P(a)$\n",
    "\n",
    "Thus:\n",
    "\n",
    "$\\huge P(a | b) = \\frac{P(a)\\times P(b | a)}{P(b)}$.\n",
    "\n",
    "This is **Bayes's Theorem**. We'll have more to say about this in a later lesson."
   ]
  },
  {
   "cell_type": "markdown",
   "metadata": {
    "heading_collapsed": true,
    "slideshow": {
     "slide_type": "slide"
    }
   },
   "source": [
    "# Level Up: Permutations & Combinations"
   ]
  },
  {
   "cell_type": "markdown",
   "metadata": {
    "hidden": true,
    "slideshow": {
     "slide_type": "slide"
    }
   },
   "source": [
    "Permutations and combinations are helpful when we're trying to solve certain counting problems. Formulas help us calculate the total number of possible outcomes in various scenarios. "
   ]
  },
  {
   "cell_type": "markdown",
   "metadata": {
    "heading_collapsed": true,
    "hidden": true,
    "slideshow": {
     "slide_type": "slide"
    }
   },
   "source": [
    "### Permutations"
   ]
  },
  {
   "cell_type": "markdown",
   "metadata": {
    "hidden": true,
    "slideshow": {
     "slide_type": "slide"
    }
   },
   "source": [
    "Use these when ordering matters: How many different arrangements can you get out of a number of elements? \n",
    "\n",
    "The number of arrangements of $r$ elements out of a total of $n$ elements is given by: $\\Large\\frac{n!}{(n – r)!}$.\n",
    "        \n",
    "Why is this the right formula?\n",
    "\n",
    "We have:\n",
    "- $n$ choices for the item in the first position;\n",
    "- $n-1$ choices for the item in the second position (since we've reserved one of the original items for the first position);\n",
    "- ... ;\n",
    "- and $n-(r-1)=n-r+1$ choices for the item in the last position.\n",
    "\n",
    "So that's $n!$ without the terms below $n-r+1$, i.e. $\\frac{n!}{(n-r)!}$."
   ]
  },
  {
   "cell_type": "markdown",
   "metadata": {
    "heading_collapsed": true,
    "hidden": true,
    "slideshow": {
     "slide_type": "slide"
    }
   },
   "source": [
    "### Combinations"
   ]
  },
  {
   "cell_type": "markdown",
   "metadata": {
    "hidden": true,
    "slideshow": {
     "slide_type": "slide"
    }
   },
   "source": [
    "Ordering does not matter. <br/>\n",
    "How many different selections can you get out of a number of elements? <br/>\n",
    "The number of selections of $r$ out of a total of $n$ elements is given by: $\\Large{n\\choose r} = \\frac{n!}{r!(n – r)!}$.\n",
    "\n",
    "Why is this the right formula?\n",
    "\n",
    "We have:\n",
    "\n",
    "The count is related to the number of associated permutations of $r$ elements, choosing from a total of $n$, namely $\\frac{n!}{(n-r)!}$.\n",
    "\n",
    "But since order doesn't matter, we need to divide our count by the number of ways of arranging the $r$ objects we've chosen. And we know what that number is: It's simply $r!$.\n",
    "\n",
    "So our total count will be $\\frac{n!}{(n-r)!r!}$."
   ]
  }
 ],
 "metadata": {
  "celltoolbar": "Slideshow",
  "kernelspec": {
   "display_name": "Python 3 (ipykernel)",
   "language": "python",
   "name": "python3"
  },
  "language_info": {
   "codemirror_mode": {
    "name": "ipython",
    "version": 3
   },
   "file_extension": ".py",
   "mimetype": "text/x-python",
   "name": "python",
   "nbconvert_exporter": "python",
   "pygments_lexer": "ipython3",
   "version": "3.9.7"
  },
  "toc": {
   "base_numbering": 1,
   "nav_menu": {},
   "number_sections": true,
   "sideBar": true,
   "skip_h1_title": false,
   "title_cell": "Table of Contents",
   "title_sidebar": "TOC",
   "toc_cell": true,
   "toc_position": {
    "height": "calc(100% - 180px)",
    "left": "10px",
    "top": "150px",
    "width": "360px"
   },
   "toc_section_display": true,
   "toc_window_display": true
  }
 },
 "nbformat": 4,
 "nbformat_minor": 2
}
