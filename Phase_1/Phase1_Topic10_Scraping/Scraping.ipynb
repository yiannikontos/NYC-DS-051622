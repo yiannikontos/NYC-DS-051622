{
 "cells": [
  {
   "cell_type": "markdown",
   "id": "5bcceb3c",
   "metadata": {
    "slideshow": {
     "slide_type": "slide"
    }
   },
   "source": [
    "<div style=\"color:white;\n",
    "           display:fill;\n",
    "           border-radius:5px;\n",
    "           background-color:#5642C5;\n",
    "           font-size:200%;\n",
    "           font-\\amily:Arial;letter-spacing:0.5px\">\n",
    "\n",
    "<p width = 20%, style=\"padding: 10px;\n",
    "              color:white;\">\n",
    "Web Scraping\n",
    "              \n",
    "</p>\n",
    "</div>\n",
    "\n",
    "Data Science Cohort Live NYC May 2022\n",
    "<p>Phase 1: Topic 10</p>\n",
    "<br>\n",
    "<br>\n",
    "\n",
    "<div align = \"right\">\n",
    "<img src=\"Images/flatiron-school-logo.png\" align = \"right\" width=\"200\"/>\n",
    "</div>\n",
    "    \n",
    "   "
   ]
  },
  {
   "cell_type": "markdown",
   "id": "3b843ca9",
   "metadata": {
    "slideshow": {
     "slide_type": "slide"
    }
   },
   "source": [
    "Previously:\n",
    "    \n",
    "- Accessed data via API\n",
    "\n",
    "Sometimes no programmatic access to data!\n",
    "- No API exists\n",
    "- No SQL server to interact with.\n",
    "- No csv files to download."
   ]
  },
  {
   "cell_type": "markdown",
   "id": "e2b003c8",
   "metadata": {
    "slideshow": {
     "slide_type": "slide"
    }
   },
   "source": [
    "Many ecommerce sites: no APIs or databases to interact with.\n",
    "<br>\n",
    "<br>\n",
    "\n",
    "<div>\n",
    "<center><img src=\"Images/master_of_malt_menu.png\" width=\"600\"/></center>\n",
    "</div>\n",
    "<center> Master of Malt</center>\n",
    "   "
   ]
  },
  {
   "cell_type": "markdown",
   "id": "093b9a49",
   "metadata": {
    "slideshow": {
     "slide_type": "subslide"
    }
   },
   "source": [
    "<div>\n",
    "<center><img src=\"Images/edradour.png\" width=\"900\"/></center>\n",
    "</div>\n",
    "<center> But I want data from these fields! </center>    "
   ]
  },
  {
   "cell_type": "markdown",
   "id": "7f24d01a",
   "metadata": {
    "slideshow": {
     "slide_type": "slide"
    }
   },
   "source": [
    "The data is in the web site source code...\n",
    "<div>\n",
    "<center><img src=\"Images/source_mom.png\" width=\"1800\"/></center>\n",
    "</div>\n",
    "    <center> Data embedded within a soup of HTML tags </center>   "
   ]
  },
  {
   "cell_type": "markdown",
   "id": "65a27f29",
   "metadata": {
    "slideshow": {
     "slide_type": "slide"
    }
   },
   "source": [
    "#### HyperText Markup Language (HTML)\n",
    "\n",
    "Tells a browser how to layout content.\n",
    "\n",
    "- Consists of elements called tags. \n",
    "- The most basic tag is the html tag: specfies everything inside of opening/closing tags is HTML. \n",
    "\n",
    "Take a look at an example website.\n"
   ]
  },
  {
   "cell_type": "markdown",
   "id": "321a7d9a",
   "metadata": {
    "slideshow": {
     "slide_type": "slide"
    }
   },
   "source": [
    "### Let's take a look at Yelp\n",
    "- Open up yelp.com in your browser.\n",
    "- Open up the inspector\n",
    "    - Mac: cmd+option+c\n",
    "    - Windows: ctrl+shift+c\n",
    "- Click on the elements tab, and click on an element"
   ]
  },
  {
   "cell_type": "markdown",
   "id": "c9c0087e",
   "metadata": {
    "slideshow": {
     "slide_type": "slide"
    }
   },
   "source": [
    "| Tag | Function | \n",
    "| --- | --- |\n",
    "| html | Denotes extent of HTML document |\n",
    "| head | External style sheet definition, metadata, titles |\n",
    "| title | Web page title |\n",
    "| body | Specifies main web page content block |\n",
    "| h1-h6 | Section heading (ordered by decreasing size)|\n",
    "| p | Represents paragraph |\n",
    "| div | Defines division or section of document |\n",
    "| span | Meant for inline or small selection  |\n",
    "| img | Signifies image and defines source |\n",
    "| a | Linking to external sites or internal events  |\n",
    "| ul | Declare unordered (bulleted) list |\n",
    "| li | List item |"
   ]
  },
  {
   "cell_type": "markdown",
   "id": "be2989de",
   "metadata": {
    "slideshow": {
     "slide_type": "slide"
    }
   },
   "source": [
    "#### CSS (Cascading Style Sheets)\n",
    "\n",
    "- Uses class and id modifiers on tag.\n",
    "- Styling:\n",
    "    - Color\n",
    "    - Font\n",
    "    - Spacing,\n",
    "    - etc.\n",
    "- Can use external sheet for styling\n",
    "- Separate content and styling."
   ]
  },
  {
   "cell_type": "markdown",
   "id": "077f1865",
   "metadata": {
    "slideshow": {
     "slide_type": "slide"
    }
   },
   "source": [
    "#### Structure of tag levels\n",
    "- HTML document structured as tree structure:\n",
    "<br>\n",
    "<br>\n",
    "<div>\n",
    "    <center><img src=\"Images/html_tree.png\" width=\"500\"/></center>\n",
    "</div>"
   ]
  },
  {
   "cell_type": "markdown",
   "id": "42570998",
   "metadata": {
    "slideshow": {
     "slide_type": "slide"
    }
   },
   "source": [
    "#### Goal\n",
    "Extract information structured by tags.\n",
    "\n",
    "- Get HTML documents as text.\n",
    "- Parse tags and extract data."
   ]
  },
  {
   "cell_type": "markdown",
   "id": "c7648104",
   "metadata": {
    "slideshow": {
     "slide_type": "slide"
    }
   },
   "source": [
    "#### Web scraping frameworks\n",
    "\n",
    "<div>\n",
    "    <center><img src=\"Images/scrapy.png\" width=\"180\"/></center>\n",
    "</div>\n",
    "<div>\n",
    "<center><img src=\"Images/selenium.png\" width=\"300\"/></center>\n",
    "</div>\n",
    "<div>\n",
    "<center><img src=\"Images/bs4.png\" width=\"300\"/></center>\n",
    "</div>"
   ]
  },
  {
   "cell_type": "markdown",
   "id": "2b1f7891",
   "metadata": {
    "cell_style": "split",
    "slideshow": {
     "slide_type": "slide"
    }
   },
   "source": [
    "We will use:\n",
    "\n",
    "<div>\n",
    "<center><img src=\"Images/bs4.png\" width=\"400\"/></center>\n",
    "</div>"
   ]
  },
  {
   "cell_type": "markdown",
   "id": "e36b9fe2",
   "metadata": {
    "cell_style": "split",
    "slideshow": {
     "slide_type": "fragment"
    }
   },
   "source": [
    "<div>\n",
    "<center><img src=\"Images/requests.png\" width=\"300\"/></center>\n",
    "</div>"
   ]
  },
  {
   "cell_type": "markdown",
   "id": "5acb7bfd",
   "metadata": {
    "slideshow": {
     "slide_type": "fragment"
    }
   },
   "source": [
    "- **Requests**: grab the HTML content as text.\n",
    "- **BeautifulSoup**: parse the content and extract data."
   ]
  },
  {
   "cell_type": "code",
   "execution_count": null,
   "id": "84456aa9",
   "metadata": {
    "slideshow": {
     "slide_type": "slide"
    }
   },
   "outputs": [],
   "source": [
    "# import requests\n",
    "import requests"
   ]
  },
  {
   "cell_type": "markdown",
   "id": "f74663f7",
   "metadata": {
    "slideshow": {
     "slide_type": "slide"
    }
   },
   "source": [
    "Make requests on a simple webpage:"
   ]
  },
  {
   "cell_type": "code",
   "execution_count": null,
   "id": "c3721af9",
   "metadata": {
    "slideshow": {
     "slide_type": "fragment"
    }
   },
   "outputs": [],
   "source": [
    "sample_url = \"http://dataquestio.github.io/web-scraping-pages/simple.html\"\n",
    "r = requests.get(sample_url)"
   ]
  },
  {
   "cell_type": "markdown",
   "id": "2357a1bd",
   "metadata": {
    "slideshow": {
     "slide_type": "fragment"
    }
   },
   "source": [
    "After running our request, we get a Response object. This object has a status_code property, which indicates if the page was downloaded successfully:"
   ]
  },
  {
   "cell_type": "code",
   "execution_count": null,
   "id": "8e201dff",
   "metadata": {
    "slideshow": {
     "slide_type": "fragment"
    }
   },
   "outputs": [],
   "source": [
    "r.status_code"
   ]
  },
  {
   "cell_type": "markdown",
   "id": "1cdfd902",
   "metadata": {
    "slideshow": {
     "slide_type": "slide"
    }
   },
   "source": [
    "Let's get the content:\n",
    "- like .text attribute\n",
    "- returns in byte representation."
   ]
  },
  {
   "cell_type": "code",
   "execution_count": null,
   "id": "b6da87d5",
   "metadata": {
    "slideshow": {
     "slide_type": "fragment"
    }
   },
   "outputs": [],
   "source": [
    "req_content = r.content\n",
    "req_content "
   ]
  },
  {
   "cell_type": "markdown",
   "id": "f9140472",
   "metadata": {
    "slideshow": {
     "slide_type": "slide"
    }
   },
   "source": [
    "- Pretty ugly.\n",
    "- Parse and get relevant data:\n",
    "    - Want to use HTML tree structure.\n",
    "    - Class and id structure.\n",
    "    \n",
    "BeautifulSoup helps us with this:"
   ]
  },
  {
   "cell_type": "code",
   "execution_count": null,
   "id": "54c74c0b",
   "metadata": {
    "slideshow": {
     "slide_type": "slide"
    }
   },
   "outputs": [],
   "source": [
    "from bs4 import BeautifulSoup"
   ]
  },
  {
   "cell_type": "markdown",
   "id": "997d15c1",
   "metadata": {
    "slideshow": {
     "slide_type": "fragment"
    }
   },
   "source": [
    "Create Soup object with web site content as input."
   ]
  },
  {
   "cell_type": "code",
   "execution_count": null,
   "id": "90b1b4f4",
   "metadata": {
    "scrolled": false,
    "slideshow": {
     "slide_type": "fragment"
    }
   },
   "outputs": [],
   "source": [
    "soup = BeautifulSoup(req_content, 'html.parser') "
   ]
  },
  {
   "cell_type": "code",
   "execution_count": null,
   "id": "bce60d09",
   "metadata": {
    "slideshow": {
     "slide_type": "slide"
    }
   },
   "outputs": [],
   "source": [
    "soup"
   ]
  },
  {
   "cell_type": "code",
   "execution_count": null,
   "id": "86c5e042",
   "metadata": {
    "slideshow": {
     "slide_type": "slide"
    }
   },
   "outputs": [],
   "source": [
    "type(soup)"
   ]
  },
  {
   "cell_type": "code",
   "execution_count": null,
   "id": "6400ae9f",
   "metadata": {
    "slideshow": {
     "slide_type": "fragment"
    }
   },
   "outputs": [],
   "source": [
    "print(soup.prettify())"
   ]
  },
  {
   "cell_type": "markdown",
   "id": "23d7a226",
   "metadata": {
    "slideshow": {
     "slide_type": "fragment"
    }
   },
   "source": [
    "Soup is parsing structure and hierarchy of tags and content in HTML document.\n",
    "\n",
    "Can go tranverse through tree hierarchy:"
   ]
  },
  {
   "cell_type": "markdown",
   "id": "65574bfd",
   "metadata": {
    "slideshow": {
     "slide_type": "slide"
    }
   },
   "source": [
    "#### Descending through hierarchy"
   ]
  },
  {
   "cell_type": "code",
   "execution_count": null,
   "id": "c1474ca2",
   "metadata": {
    "slideshow": {
     "slide_type": "fragment"
    }
   },
   "outputs": [],
   "source": [
    "soup"
   ]
  },
  {
   "cell_type": "code",
   "execution_count": null,
   "id": "86d767fb",
   "metadata": {
    "slideshow": {
     "slide_type": "slide"
    }
   },
   "outputs": [],
   "source": [
    "html_level = soup.html\n",
    "html_level"
   ]
  },
  {
   "cell_type": "markdown",
   "id": "6c9d6533",
   "metadata": {
    "slideshow": {
     "slide_type": "slide"
    }
   },
   "source": [
    ".contents attribute: gets list of tag's children"
   ]
  },
  {
   "cell_type": "code",
   "execution_count": null,
   "id": "86d21df4",
   "metadata": {
    "slideshow": {
     "slide_type": "fragment"
    }
   },
   "outputs": [],
   "source": [
    "html_level.contents"
   ]
  },
  {
   "cell_type": "markdown",
   "id": "16d875b9",
   "metadata": {
    "slideshow": {
     "slide_type": "slide"
    }
   },
   "source": [
    "Can also yield children as iterator:"
   ]
  },
  {
   "cell_type": "code",
   "execution_count": null,
   "id": "cc647974",
   "metadata": {
    "slideshow": {
     "slide_type": "fragment"
    }
   },
   "outputs": [],
   "source": [
    "for x in html_level.children:\n",
    "    print(x)"
   ]
  },
  {
   "cell_type": "markdown",
   "id": "8cd7bc13",
   "metadata": {
    "slideshow": {
     "slide_type": "slide"
    }
   },
   "source": [
    "Let's go down the body branch:\n",
    "- Can address body child as an attribute of previous level."
   ]
  },
  {
   "cell_type": "code",
   "execution_count": null,
   "id": "c629858f",
   "metadata": {
    "slideshow": {
     "slide_type": "fragment"
    }
   },
   "outputs": [],
   "source": [
    "body_level = html_level.body\n",
    "body_level"
   ]
  },
  {
   "cell_type": "markdown",
   "id": "1e6d8db0",
   "metadata": {
    "slideshow": {
     "slide_type": "slide"
    }
   },
   "source": [
    "There's another level left down this branch:"
   ]
  },
  {
   "cell_type": "code",
   "execution_count": null,
   "id": "48607e5a",
   "metadata": {
    "slideshow": {
     "slide_type": "fragment"
    }
   },
   "outputs": [],
   "source": [
    "body_level"
   ]
  },
  {
   "cell_type": "code",
   "execution_count": null,
   "id": "6ac744c0",
   "metadata": {
    "slideshow": {
     "slide_type": "fragment"
    }
   },
   "outputs": [],
   "source": [
    "p_level = body_level.p\n",
    "p_level"
   ]
  },
  {
   "cell_type": "markdown",
   "id": "9018e7d6",
   "metadata": {
    "slideshow": {
     "slide_type": "slide"
    }
   },
   "source": [
    "Note: this only gets the first p tag.\n",
    "- If want more: need to use .find_all()"
   ]
  },
  {
   "cell_type": "markdown",
   "id": "2a8e376a",
   "metadata": {
    "slideshow": {
     "slide_type": "slide"
    }
   },
   "source": [
    "Get the text inside the tag:\n",
    "- .text attribute"
   ]
  },
  {
   "cell_type": "code",
   "execution_count": null,
   "id": "5dd153d1",
   "metadata": {
    "slideshow": {
     "slide_type": "fragment"
    }
   },
   "outputs": [],
   "source": [
    "p_level.text"
   ]
  },
  {
   "cell_type": "markdown",
   "id": "87c29f9f",
   "metadata": {
    "slideshow": {
     "slide_type": "slide"
    }
   },
   "source": [
    "#### Going up levels\n",
    "We can also go the other way:"
   ]
  },
  {
   "cell_type": "code",
   "execution_count": null,
   "id": "12beeca8",
   "metadata": {
    "slideshow": {
     "slide_type": "fragment"
    }
   },
   "outputs": [],
   "source": [
    "p_level.parent"
   ]
  },
  {
   "cell_type": "markdown",
   "id": "d9b111a7",
   "metadata": {
    "slideshow": {
     "slide_type": "fragment"
    }
   },
   "source": [
    "Not too shabby."
   ]
  },
  {
   "cell_type": "markdown",
   "id": "04ea5d30",
   "metadata": {
    "slideshow": {
     "slide_type": "slide"
    }
   },
   "source": [
    "#### Going sideways\n",
    "- Traversing through siblings"
   ]
  },
  {
   "cell_type": "code",
   "execution_count": null,
   "id": "04db60a4",
   "metadata": {
    "cell_style": "split",
    "slideshow": {
     "slide_type": "fragment"
    }
   },
   "outputs": [],
   "source": [
    "html_level"
   ]
  },
  {
   "cell_type": "code",
   "execution_count": null,
   "id": "50324e64",
   "metadata": {
    "cell_style": "split",
    "slideshow": {
     "slide_type": "fragment"
    }
   },
   "outputs": [],
   "source": [
    "body_level"
   ]
  },
  {
   "cell_type": "code",
   "execution_count": null,
   "id": "504852d5",
   "metadata": {
    "cell_style": "center",
    "slideshow": {
     "slide_type": "fragment"
    }
   },
   "outputs": [],
   "source": [
    "list(body_level.previous_siblings)"
   ]
  },
  {
   "cell_type": "markdown",
   "id": "fe32fcb9",
   "metadata": {
    "slideshow": {
     "slide_type": "slide"
    }
   },
   "source": [
    "Let's have a gander at a slightly more complex website:"
   ]
  },
  {
   "cell_type": "code",
   "execution_count": null,
   "id": "90199642",
   "metadata": {
    "scrolled": true,
    "slideshow": {
     "slide_type": "slide"
    }
   },
   "outputs": [],
   "source": [
    "page = requests.get(\"http://dataquestio.github.io/web-scraping-pages/ids_and_classes.html\")\n",
    "soup = BeautifulSoup(page.content)\n",
    "soup"
   ]
  },
  {
   "cell_type": "markdown",
   "id": "e0dbc377",
   "metadata": {
    "slideshow": {
     "slide_type": "slide"
    }
   },
   "source": [
    "Going down to the body level:"
   ]
  },
  {
   "cell_type": "code",
   "execution_count": null,
   "id": "e94c1379",
   "metadata": {
    "slideshow": {
     "slide_type": "fragment"
    }
   },
   "outputs": [],
   "source": [
    "body_level = soup.html.body\n",
    "body_level"
   ]
  },
  {
   "cell_type": "markdown",
   "id": "2e5376d0",
   "metadata": {
    "slideshow": {
     "slide_type": "slide"
    }
   },
   "source": [
    "Want all p tags:"
   ]
  },
  {
   "cell_type": "code",
   "execution_count": null,
   "id": "b84fe634",
   "metadata": {
    "slideshow": {
     "slide_type": "fragment"
    }
   },
   "outputs": [],
   "source": [
    "body_level.p"
   ]
  },
  {
   "cell_type": "markdown",
   "id": "5fc9c4be",
   "metadata": {
    "slideshow": {
     "slide_type": "slide"
    }
   },
   "source": [
    "We need:\n",
    "    \n",
    ".find_all() \n",
    "- finds all instances of specified tags within level.\n",
    "- returns a list"
   ]
  },
  {
   "cell_type": "code",
   "execution_count": null,
   "id": "16f70d2c",
   "metadata": {
    "slideshow": {
     "slide_type": "slide"
    }
   },
   "outputs": [],
   "source": [
    "body_level.find_all('p')"
   ]
  },
  {
   "cell_type": "markdown",
   "id": "5166ff0d",
   "metadata": {
    "slideshow": {
     "slide_type": "slide"
    }
   },
   "source": [
    "#### Class and id selectors\n",
    "- Modify style easily across:\n",
    "- many instance of same type (class)\n",
    "- or one specific instance (id).\n",
    "- Can also use this for data selection / scraping.\n",
    "\n",
    "Additional arguments for .find_all()"
   ]
  },
  {
   "cell_type": "code",
   "execution_count": null,
   "id": "78d81cf9",
   "metadata": {
    "cell_style": "split",
    "slideshow": {
     "slide_type": "slide"
    }
   },
   "outputs": [],
   "source": [
    "body_level"
   ]
  },
  {
   "cell_type": "markdown",
   "id": "a9fd3d41",
   "metadata": {
    "cell_style": "split",
    "slideshow": {
     "slide_type": "fragment"
    }
   },
   "source": [
    "Extract by class:"
   ]
  },
  {
   "cell_type": "code",
   "execution_count": null,
   "id": "61e8ce38",
   "metadata": {
    "cell_style": "split",
    "slideshow": {
     "slide_type": "fragment"
    }
   },
   "outputs": [],
   "source": [
    "body_level.find_all('p', class_ = 'inner-text')"
   ]
  },
  {
   "cell_type": "code",
   "execution_count": null,
   "id": "0b164c15",
   "metadata": {
    "cell_style": "split",
    "slideshow": {
     "slide_type": "slide"
    }
   },
   "outputs": [],
   "source": [
    "body_level"
   ]
  },
  {
   "cell_type": "markdown",
   "id": "e4f0c04e",
   "metadata": {
    "cell_style": "split",
    "slideshow": {
     "slide_type": "fragment"
    }
   },
   "source": [
    "Extract by id:"
   ]
  },
  {
   "cell_type": "code",
   "execution_count": null,
   "id": "95fadfe5",
   "metadata": {
    "cell_style": "split",
    "slideshow": {
     "slide_type": "fragment"
    }
   },
   "outputs": [],
   "source": [
    "body_level.find_all('p', id = 'second')"
   ]
  },
  {
   "cell_type": "markdown",
   "id": "57a1eaf9",
   "metadata": {
    "slideshow": {
     "slide_type": "slide"
    }
   },
   "source": [
    "#### Going back to our whisky page\n",
    "\n",
    "- Get bottling details (age, ABV, distillery, etc)"
   ]
  },
  {
   "cell_type": "code",
   "execution_count": null,
   "id": "d08debb0",
   "metadata": {
    "slideshow": {
     "slide_type": "fragment"
    }
   },
   "outputs": [],
   "source": [
    "edradour_url = \"https://www.masterofmalt.com/whiskies/edradour-10-year-old-whisky/?srh=1\""
   ]
  },
  {
   "cell_type": "code",
   "execution_count": null,
   "id": "f59b8a5a",
   "metadata": {
    "slideshow": {
     "slide_type": "fragment"
    }
   },
   "outputs": [],
   "source": [
    "edrad_req = requests.get(edradour_url)\n",
    "edrad_soup = BeautifulSoup(edrad_req.content)"
   ]
  },
  {
   "cell_type": "markdown",
   "id": "0f225c11",
   "metadata": {
    "slideshow": {
     "slide_type": "slide"
    }
   },
   "source": [
    "Extract all info from bottling details:"
   ]
  },
  {
   "cell_type": "code",
   "execution_count": null,
   "id": "27c316e5",
   "metadata": {
    "scrolled": true,
    "slideshow": {
     "slide_type": "slide"
    }
   },
   "outputs": [],
   "source": [
    "details = edrad_soup.find_all('div', id=\"whiskyDetailsWrapper\")[0]\n",
    "details"
   ]
  },
  {
   "cell_type": "code",
   "execution_count": null,
   "id": "2faf9b27",
   "metadata": {
    "slideshow": {
     "slide_type": "fragment"
    }
   },
   "outputs": [],
   "source": [
    "detail_keys = details.find_all('span', class_ = \"kv-key gold\")"
   ]
  },
  {
   "cell_type": "code",
   "execution_count": null,
   "id": "489e7a4f",
   "metadata": {
    "slideshow": {
     "slide_type": "fragment"
    }
   },
   "outputs": [],
   "source": [
    "detail_keys"
   ]
  },
  {
   "cell_type": "code",
   "execution_count": null,
   "id": "824d5299",
   "metadata": {
    "slideshow": {
     "slide_type": "fragment"
    }
   },
   "outputs": [],
   "source": [
    "detail_values = details.find_all('span', class_ = \"kv-val\")"
   ]
  },
  {
   "cell_type": "code",
   "execution_count": null,
   "id": "a90b6176",
   "metadata": {
    "slideshow": {
     "slide_type": "fragment"
    }
   },
   "outputs": [],
   "source": [
    "detail_values"
   ]
  },
  {
   "cell_type": "code",
   "execution_count": null,
   "id": "911f09c6",
   "metadata": {
    "cell_style": "split",
    "slideshow": {
     "slide_type": "slide"
    }
   },
   "outputs": [],
   "source": [
    "data_dict = {}\n",
    "for key,val in zip(detail_keys, detail_values):\n",
    "    data_dict[key.text] = val.text\n",
    "    "
   ]
  },
  {
   "cell_type": "code",
   "execution_count": null,
   "id": "b1325eb9",
   "metadata": {
    "cell_style": "split",
    "slideshow": {
     "slide_type": "fragment"
    }
   },
   "outputs": [],
   "source": [
    "data_dict"
   ]
  },
  {
   "cell_type": "code",
   "execution_count": null,
   "id": "51f24fa5",
   "metadata": {
    "slideshow": {
     "slide_type": "slide"
    }
   },
   "outputs": [],
   "source": [
    "tasting_note_div = edrad_soup.find_all(\"div\", \n",
    "                                       id = \"ContentPlaceHolder1_ctl00_ctl02_TastingNoteBox_ctl00_breakDownTastingNote\")[0]\n",
    "\n",
    "tasting_note_div"
   ]
  },
  {
   "cell_type": "code",
   "execution_count": null,
   "id": "29390c6b",
   "metadata": {
    "slideshow": {
     "slide_type": "slide"
    }
   },
   "outputs": [],
   "source": [
    "tasting_dict = { note.text.split(':')[0]:note.text.split(':')[1] for note in tasting_note_div.find_all('p') }\n",
    "data_dict.update(tasting_dict)"
   ]
  },
  {
   "cell_type": "code",
   "execution_count": null,
   "id": "bee071f4",
   "metadata": {
    "slideshow": {
     "slide_type": "fragment"
    }
   },
   "outputs": [],
   "source": [
    "data_dict"
   ]
  },
  {
   "cell_type": "markdown",
   "id": "f6e9c190",
   "metadata": {
    "slideshow": {
     "slide_type": "slide"
    }
   },
   "source": [
    "We have started wrangling data from an actual website.\n",
    "\n",
    "Now we might want to do this for many whiskies on this site:\n",
    "\n",
    "- How might we start doing this?\n",
    "- Any ideas?"
   ]
  },
  {
   "cell_type": "markdown",
   "id": "42aca37c",
   "metadata": {
    "slideshow": {
     "slide_type": "fragment"
    }
   },
   "source": [
    "When each product site has same tagging structure:\n",
    "\n",
    "- Build function that extracts data like we did.\n",
    "- Loop through each product.\n",
    "- Apply function to each product to scrape data."
   ]
  }
 ],
 "metadata": {
  "celltoolbar": "Slideshow",
  "kernelspec": {
   "display_name": "Python 3 (ipykernel)",
   "language": "python",
   "name": "python3"
  },
  "language_info": {
   "codemirror_mode": {
    "name": "ipython",
    "version": 3
   },
   "file_extension": ".py",
   "mimetype": "text/x-python",
   "name": "python",
   "nbconvert_exporter": "python",
   "pygments_lexer": "ipython3",
   "version": "3.9.7"
  }
 },
 "nbformat": 4,
 "nbformat_minor": 5
}
