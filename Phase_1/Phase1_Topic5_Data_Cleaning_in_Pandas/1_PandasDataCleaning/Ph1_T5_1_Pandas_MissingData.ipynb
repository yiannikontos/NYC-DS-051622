{
 "cells": [
  {
   "cell_type": "markdown",
   "id": "fa0b4767",
   "metadata": {
    "slideshow": {
     "slide_type": "slide"
    }
   },
   "source": [
    "<div style=\"color:white;\n",
    "           display:fill;\n",
    "           border-radius:5px;\n",
    "           background-color:#5642C5;\n",
    "           font-size:200%;\n",
    "           font-family:Arial;letter-spacing:0.5px\">\n",
    "\n",
    "<p width = 20%, style=\"padding: 10px;\n",
    "              color:white;\"\n",
    "  >\n",
    "Pandas: Finding and Dropping Missing Data\n",
    "              \n",
    "</p>\n",
    "</div>\n",
    "\n",
    "Data Science Cohort Live NYC May 2022\n",
    "<p>Phase 1: Topic 5</p>\n",
    "<br>\n",
    "<br>\n",
    "\n",
    "<div align = \"right\">\n",
    "<img src=\"Images/flatiron-school-logo.png\" align = \"right\" width=\"200\"/>\n",
    "</div>\n",
    "    \n",
    "    "
   ]
  },
  {
   "cell_type": "markdown",
   "id": "3dd0b0e0",
   "metadata": {
    "slideshow": {
     "slide_type": "slide"
    }
   },
   "source": [
    "#### Missing data\n",
    "\n",
    "\n",
    "Observations for a set of variables (columns):\n",
    "- E.g, observations of octopus: length, width, mass, beak length, beak width, number of suckers, bioluminiscence, species.   \n",
    "- For a given observation:  have data on some variables but not others.\n",
    "- This leads to missing/empty values in tabular form."
   ]
  },
  {
   "cell_type": "markdown",
   "id": "1c36142b",
   "metadata": {
    "slideshow": {
     "slide_type": "slide"
    }
   },
   "source": [
    "| Obs_ID  | L (m) | W (m) | L<sub>beak</sub> (cm) | W<sub>beak</sub> (cm) | m (kg) | n<sub>suckers</sub> | Bioluminescent? | Species|\n",
    "| --- | --- | --- | --- | --- | --- | --- | --- | --- |\n",
    "| 0 | 1.1 | .6 | 10 | 5 | 10 | | N | Ghost squid |\n",
    "| 1 | 30 | 9 | 8 | 5 | 180 | 1200 | N | Giant Squid |\n",
    "| 2 | 1.5 | .8 |  |  | 12 |  | Y | S. Syrtensis |\n",
    "\n",
    "<br>\n",
    "\n",
    "<div align = \"right\">\n",
    "<center><img src=\"Images/syrtensis.jpeg\" width=\"400\"/></center>\n",
    "</div>\n",
    "<center>Stauroteuthis Syrtensis: The glowing octopus </center>\n"
   ]
  },
  {
   "cell_type": "markdown",
   "id": "5578f7d0",
   "metadata": {
    "slideshow": {
     "slide_type": "slide"
    }
   },
   "source": [
    "#### What pandas does with missing values\n",
    "- On an import: missing values represented as NaNs\n",
    "- NaN = not a number\n",
    "\n",
    "Let's take a look at our titanic dataset."
   ]
  },
  {
   "cell_type": "code",
   "execution_count": null,
   "id": "737465e8",
   "metadata": {
    "slideshow": {
     "slide_type": "subslide"
    }
   },
   "outputs": [],
   "source": [
    "import numpy as np\n",
    "import pandas as pd\n",
    "titanic_df = pd.read_csv('Data/titanic.csv')\n",
    "titanic_df.info()"
   ]
  },
  {
   "cell_type": "markdown",
   "id": "7162858d",
   "metadata": {},
   "source": [
    "The .info() method shows us that there are some null values. Look at Cabin column:"
   ]
  },
  {
   "cell_type": "code",
   "execution_count": null,
   "id": "bb15ae54",
   "metadata": {
    "slideshow": {
     "slide_type": "slide"
    }
   },
   "outputs": [],
   "source": [
    "titanic_df['Cabin'].head()"
   ]
  },
  {
   "cell_type": "markdown",
   "id": "350ec420",
   "metadata": {
    "slideshow": {
     "slide_type": "fragment"
    }
   },
   "source": [
    "There are clearly some NaNs: missing values.\n",
    "\n",
    "Pandas type for NaN:"
   ]
  },
  {
   "cell_type": "code",
   "execution_count": null,
   "id": "abb81831",
   "metadata": {
    "slideshow": {
     "slide_type": "fragment"
    }
   },
   "outputs": [],
   "source": [
    "type(titanic_df.loc[0, 'Cabin'])"
   ]
  },
  {
   "cell_type": "markdown",
   "id": "23bc7dfe",
   "metadata": {
    "slideshow": {
     "slide_type": "slide"
    }
   },
   "source": [
    "#### Placeholder Values\n",
    "- Sometimes nulls are already encoded in data\n",
    "    - Most common: 0 for missing values\n",
    "    - A very large number: e.g. 9999 w/ data range [0,10]\n",
    "    - np.inf: infinity coding\n",
    "    \n",
    "Typically value well outside range/type of most data values."
   ]
  },
  {
   "cell_type": "code",
   "execution_count": null,
   "id": "68426416",
   "metadata": {
    "slideshow": {
     "slide_type": "slide"
    }
   },
   "outputs": [],
   "source": [
    "datafun = np.array( [[23, 45, 10, 22, 0, 31, 8, 6, 9999, 11, 9999],['NYC', 'NYC', 'PHIL', 'NYC', 'DC', 'BOS', 0, 'NYC', 'BOS', 0, 'DC']])\n",
    "pd.DataFrame(datafun.T, columns = ['miles_driven_hour', 'car_origin_city'])"
   ]
  },
  {
   "cell_type": "markdown",
   "id": "3dd328f1",
   "metadata": {
    "slideshow": {
     "slide_type": "fragment"
    }
   },
   "source": [
    "Find the missing values."
   ]
  },
  {
   "cell_type": "markdown",
   "id": "92d24edc",
   "metadata": {
    "slideshow": {
     "slide_type": "slide"
    }
   },
   "source": [
    "#### Why are missing values a problem?\n",
    "- NaNs:\n",
    "    - Many statistical calculations and machine learning algorithms ill posed with NaNs.\n",
    "- Placeholders:\n",
    "    - Distort/skew data distribution artificially (e.g., many meaningless 0 or 9999 in data)\n",
    "   \n"
   ]
  },
  {
   "cell_type": "markdown",
   "id": "d6275b3e",
   "metadata": {
    "slideshow": {
     "slide_type": "slide"
    }
   },
   "source": [
    "#### NaNs: Finding them using pandas\n",
    "- DataFrame.isna() method: returns True/False if NaN entry-wise by default."
   ]
  },
  {
   "cell_type": "code",
   "execution_count": null,
   "id": "38b00c0d",
   "metadata": {
    "scrolled": true,
    "slideshow": {
     "slide_type": "slide"
    }
   },
   "outputs": [],
   "source": [
    "titanic_df.isna()"
   ]
  },
  {
   "cell_type": "markdown",
   "id": "64eecbcb",
   "metadata": {
    "slideshow": {
     "slide_type": "slide"
    }
   },
   "source": [
    "But often we want to know which rows or which columns have NaNs. First we need to look at:\n",
    "\n",
    "- Series.any() method: Returns True or False on a Series if any of the elements are True."
   ]
  },
  {
   "cell_type": "code",
   "execution_count": null,
   "id": "ecf86e24",
   "metadata": {
    "slideshow": {
     "slide_type": "fragment"
    }
   },
   "outputs": [],
   "source": [
    "pd.Series([False, False, False]).any()"
   ]
  },
  {
   "cell_type": "code",
   "execution_count": null,
   "id": "12f1925e",
   "metadata": {},
   "outputs": [],
   "source": [
    "pd.Series([False, True, False]).any()"
   ]
  },
  {
   "cell_type": "markdown",
   "id": "417ba824",
   "metadata": {
    "slideshow": {
     "slide_type": "slide"
    }
   },
   "source": [
    "- DataFrame.any(axis = ___) method.\n",
    "- If axis = 0, check if there are any True in each column.\n",
    "- If axis = 1, check if there are any True in each row.\n",
    "\n",
    "Put it altogether by chaining:"
   ]
  },
  {
   "cell_type": "code",
   "execution_count": null,
   "id": "abf60654",
   "metadata": {
    "cell_style": "split",
    "slideshow": {
     "slide_type": "slide"
    }
   },
   "outputs": [],
   "source": [
    "titanic_df.isna()\n"
   ]
  },
  {
   "cell_type": "markdown",
   "id": "1c679211",
   "metadata": {
    "cell_style": "split",
    "slideshow": {
     "slide_type": "fragment"
    }
   },
   "source": [
    "Do the columns have NaN in it?"
   ]
  },
  {
   "cell_type": "code",
   "execution_count": null,
   "id": "12e902e3",
   "metadata": {
    "cell_style": "split",
    "slideshow": {
     "slide_type": "fragment"
    }
   },
   "outputs": [],
   "source": [
    "titanic_df.isna().any(axis = 0) #.sum()"
   ]
  },
  {
   "cell_type": "markdown",
   "id": "9645d707",
   "metadata": {
    "cell_style": "split",
    "slideshow": {
     "slide_type": "slide"
    }
   },
   "source": [
    "Do the rows have NaN in it?"
   ]
  },
  {
   "cell_type": "code",
   "execution_count": null,
   "id": "da21d808",
   "metadata": {
    "cell_style": "split",
    "slideshow": {
     "slide_type": "fragment"
    }
   },
   "outputs": [],
   "source": [
    "titanic_df.isna().any(axis = 1)"
   ]
  },
  {
   "cell_type": "markdown",
   "id": "a4032f5b",
   "metadata": {
    "slideshow": {
     "slide_type": "slide"
    }
   },
   "source": [
    "The .notna() method:\n",
    "- Unsurprisingly, finds all elements in dataframe that are not NaNs."
   ]
  },
  {
   "cell_type": "code",
   "execution_count": null,
   "id": "fca56705",
   "metadata": {
    "cell_style": "split",
    "slideshow": {
     "slide_type": "slide"
    }
   },
   "outputs": [],
   "source": [
    "titanic_df.isna()"
   ]
  },
  {
   "cell_type": "code",
   "execution_count": null,
   "id": "c5462e19",
   "metadata": {
    "cell_style": "split"
   },
   "outputs": [],
   "source": [
    "titanic_df.notna()"
   ]
  },
  {
   "cell_type": "markdown",
   "id": "180c408e",
   "metadata": {
    "slideshow": {
     "slide_type": "slide"
    }
   },
   "source": [
    "The DataFrame.all(axis = __) method:\n",
    "\n",
    "- If axis = 0, checks if each column is all True.\n",
    "- If axis = 1, checks if each row is all True.\n",
    "\n",
    "Chain with .notna() and we can find all rows/columns that have no NaNs\n",
    "    "
   ]
  },
  {
   "cell_type": "code",
   "execution_count": null,
   "id": "30da6042",
   "metadata": {
    "cell_style": "split",
    "scrolled": true,
    "slideshow": {
     "slide_type": "slide"
    }
   },
   "outputs": [],
   "source": [
    "# all columns that have no Nans\n",
    "titanic_df.notna().all(axis = 0)"
   ]
  },
  {
   "cell_type": "code",
   "execution_count": null,
   "id": "038ddf68",
   "metadata": {
    "cell_style": "split"
   },
   "outputs": [],
   "source": [
    "# all row that have no Nans\n",
    "titanic_df.notna().all(axis = 1)"
   ]
  },
  {
   "cell_type": "markdown",
   "id": "dcd55b91",
   "metadata": {
    "slideshow": {
     "slide_type": "slide"
    }
   },
   "source": [
    "#### Selections on columns/rows with/without NaNs:\n",
    "\n",
    "- Use the .loc[] accessor with .isna(), .any(), etc...\n",
    "- The Series that we have been generating with .notna().all(), etc are Boolean masks!\n",
    "\n",
    "Example: select all rows in titanic data without NaNs. Extract Sex, Passenger class, Age, and Cabin columns only.\n"
   ]
  },
  {
   "cell_type": "code",
   "execution_count": null,
   "id": "0ac95eb7",
   "metadata": {
    "scrolled": true,
    "slideshow": {
     "slide_type": "slide"
    }
   },
   "outputs": [],
   "source": [
    "col_list = ['Sex', 'Pclass', 'Age', 'Cabin']\n",
    "selection = titanic_df.loc[titanic_df.notna().all(axis = 1), col_list]\n",
    "\n",
    "print(selection.head())\n",
    "print(selection.info())\n"
   ]
  },
  {
   "cell_type": "markdown",
   "id": "5c04a040",
   "metadata": {
    "slideshow": {
     "slide_type": "slide"
    }
   },
   "source": [
    "#### Dropping NaNs easily:\n",
    "- The .dropna(axis = __, how =, subset = __) \n",
    "- Above chaining with .loc flexible\n",
    "- But: dropping NaNs regular enough operation that there is easy command to do this."
   ]
  },
  {
   "cell_type": "markdown",
   "id": "5ac163d3",
   "metadata": {
    "slideshow": {
     "slide_type": "slide"
    }
   },
   "source": [
    "Drop all rows (index) that have any NaNs"
   ]
  },
  {
   "cell_type": "code",
   "execution_count": null,
   "id": "1dedf50a",
   "metadata": {
    "slideshow": {
     "slide_type": "subslide"
    }
   },
   "outputs": [],
   "source": [
    "titanic_df.dropna(axis = 'index', how = 'any')"
   ]
  },
  {
   "cell_type": "markdown",
   "id": "b64822cd",
   "metadata": {
    "slideshow": {
     "slide_type": "slide"
    }
   },
   "source": [
    "Drop all columns that have any NaNs:"
   ]
  },
  {
   "cell_type": "code",
   "execution_count": null,
   "id": "e6aabd0b",
   "metadata": {
    "slideshow": {
     "slide_type": "subslide"
    }
   },
   "outputs": [],
   "source": [
    "titanic_df.dropna(axis = 'columns', how = 'any').head()"
   ]
  },
  {
   "cell_type": "markdown",
   "id": "06ca9fad",
   "metadata": {
    "slideshow": {
     "slide_type": "slide"
    }
   },
   "source": [
    "#### Dealing with PlaceHolder Values\n",
    "- One way is to convert suspected placeholder value(s) to NaN and then apply previous methods."
   ]
  },
  {
   "cell_type": "code",
   "execution_count": null,
   "id": "d9d9fca4",
   "metadata": {
    "slideshow": {
     "slide_type": "slide"
    }
   },
   "outputs": [],
   "source": [
    "datafun_df = pd.DataFrame(datafun.T, columns = ['miles_driven_hour', 'car_origin_city'])\n",
    "datafun_df"
   ]
  },
  {
   "cell_type": "markdown",
   "id": "514f8c61",
   "metadata": {
    "slideshow": {
     "slide_type": "slide"
    }
   },
   "source": [
    "DataFrame.replace() method: \n",
    "- dictionary-style value replacement in a DataFrame"
   ]
  },
  {
   "cell_type": "code",
   "execution_count": null,
   "id": "2ca01cf7",
   "metadata": {
    "scrolled": true,
    "slideshow": {
     "slide_type": "subslide"
    }
   },
   "outputs": [],
   "source": [
    "datafun_df.replace({'0':np.nan, '9999': np.nan}, inplace = True)\n",
    "datafun_df"
   ]
  },
  {
   "cell_type": "markdown",
   "id": "d466bcdc",
   "metadata": {
    "slideshow": {
     "slide_type": "slide"
    }
   },
   "source": [
    "Dropping all rows with any NaNs:"
   ]
  },
  {
   "cell_type": "code",
   "execution_count": null,
   "id": "c23daed5",
   "metadata": {
    "scrolled": false,
    "slideshow": {
     "slide_type": "subslide"
    }
   },
   "outputs": [],
   "source": [
    "datafun_df.dropna(axis = 'index', how = 'any')"
   ]
  },
  {
   "cell_type": "markdown",
   "id": "f90268e4",
   "metadata": {
    "slideshow": {
     "slide_type": "slide"
    }
   },
   "source": [
    "- Pandas: effective at finding and dropping missing values.\n",
    "\n",
    "- Often dropping values is not the best way. \n",
    "\n",
    "We will see other possibilities next lecture."
   ]
  }
 ],
 "metadata": {
  "celltoolbar": "Slideshow",
  "kernelspec": {
   "display_name": "Python 3 (ipykernel)",
   "language": "python",
   "name": "python3"
  },
  "language_info": {
   "codemirror_mode": {
    "name": "ipython",
    "version": 3
   },
   "file_extension": ".py",
   "mimetype": "text/x-python",
   "name": "python",
   "nbconvert_exporter": "python",
   "pygments_lexer": "ipython3",
   "version": "3.9.7"
  }
 },
 "nbformat": 4,
 "nbformat_minor": 5
}
