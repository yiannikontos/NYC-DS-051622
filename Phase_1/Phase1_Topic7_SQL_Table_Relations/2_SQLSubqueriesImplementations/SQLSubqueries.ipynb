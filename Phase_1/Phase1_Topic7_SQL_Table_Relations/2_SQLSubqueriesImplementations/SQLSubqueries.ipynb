{
 "cells": [
  {
   "cell_type": "markdown",
   "id": "b1b58d2e",
   "metadata": {
    "cell_style": "center",
    "slideshow": {
     "slide_type": "slide"
    }
   },
   "source": [
    "<div style=\"color:white;\n",
    "           display:fill;\n",
    "           border-radius:5px;\n",
    "           background-color:#5642C5;\n",
    "           font-size:200%;\n",
    "           font-family:Arial;letter-spacing:0.5px\">\n",
    "\n",
    "<p width = 20%, style=\"padding: 10px;\n",
    "              color:white;\">\n",
    "SQL: Subqueries\n",
    "              \n",
    "</p>\n",
    "</div>\n",
    "\n",
    "Data Science Cohort Live NYC May 2022\n",
    "<p>Phase 1: Topic 7</p>\n",
    "<br>\n",
    "<br>\n",
    "\n",
    "<div align = \"right\">\n",
    "<img src=\"Images/flatiron-school-logo.png\" align = \"right\" width=\"200\"/>\n",
    "</div>\n",
    "    \n",
    "   "
   ]
  },
  {
   "cell_type": "markdown",
   "id": "7a9d7722",
   "metadata": {
    "cell_style": "split",
    "slideshow": {
     "slide_type": "slide"
    }
   },
   "source": [
    "Remember: \n",
    "\n",
    "SELECT queries return a new table."
   ]
  },
  {
   "cell_type": "markdown",
   "id": "b7caf37f",
   "metadata": {
    "cell_style": "split",
    "slideshow": {
     "slide_type": "fragment"
    }
   },
   "source": [
    "Sometimes:\n",
    "\n",
    "- Query a table.\n",
    "- Filter/select/... on that query\n",
    "- Return result of querying on the first query.\n",
    "\n",
    "First query is a **subquery**."
   ]
  },
  {
   "cell_type": "markdown",
   "id": "f073749c",
   "metadata": {
    "slideshow": {
     "slide_type": "slide"
    }
   },
   "source": [
    "Let's get into it with our handy dandy flights database!"
   ]
  },
  {
   "cell_type": "code",
   "execution_count": null,
   "id": "d894b5b1",
   "metadata": {
    "slideshow": {
     "slide_type": "fragment"
    }
   },
   "outputs": [],
   "source": [
    "import sqlite3\n",
    "import numpy as np\n",
    "import pandas as pd\n",
    "\n",
    "# connect to flights database\n",
    "con = sqlite3.connect('data/flights.db')"
   ]
  },
  {
   "cell_type": "markdown",
   "id": "b4f324bb",
   "metadata": {
    "slideshow": {
     "slide_type": "slide"
    }
   },
   "source": [
    "Subqueries can be used to great effect in a variety of circumstances:\n",
    "    \n",
    "- Selecting from a table created by a subquery \n",
    "    - Subquery in FROM statement\n",
    "- Filtering on a subquery.\n",
    "    - Subquery in a WHERE statement\n",
    "- Filtering in a SELECT statement.\n"
   ]
  },
  {
   "cell_type": "markdown",
   "id": "1812da97",
   "metadata": {
    "slideshow": {
     "slide_type": "slide"
    }
   },
   "source": [
    "Example of a query containing a subquery:\n",
    "\n",
    "Get the average of the highest altitude airports in United States, Russia, and China:\n",
    "\n",
    "- Select airport name, city, and altitude for the highest airport in each country\n",
    "- Then filter this on the country.\n",
    "- Then get the average of the altitudes of the resultant airports.\n",
    "\n",
    "Step by step."
   ]
  },
  {
   "cell_type": "code",
   "execution_count": null,
   "id": "31fa729f",
   "metadata": {
    "cell_style": "center",
    "scrolled": true,
    "slideshow": {
     "slide_type": "fragment"
    }
   },
   "outputs": [],
   "source": [
    "%%capture subquery\n",
    "pd.read_sql(\"\"\"\n",
    "\n",
    "SELECT name, \n",
    "     city,\n",
    "     country,\n",
    "     MAX(CAST(altitude as float)) AS max_altitude\n",
    "     \n",
    "     FROM airports\n",
    "     \n",
    "     GROUP BY country\n",
    "     \n",
    "\n",
    "\"\"\", con)"
   ]
  },
  {
   "cell_type": "code",
   "execution_count": null,
   "id": "5b50ed14",
   "metadata": {
    "cell_style": "center",
    "slideshow": {
     "slide_type": "slide"
    }
   },
   "outputs": [],
   "source": [
    "subquery()"
   ]
  },
  {
   "cell_type": "markdown",
   "id": "7df765f0",
   "metadata": {
    "slideshow": {
     "slide_type": "slide"
    }
   },
   "source": [
    "This is a table produced by the query. We now want to filter this table on country.\n",
    "\n",
    "- Can select FROM results of above table and filter WHERE conditon is true.\n",
    "- Subquery creates intermediate table for us."
   ]
  },
  {
   "cell_type": "code",
   "execution_count": null,
   "id": "61cfd37e",
   "metadata": {
    "cell_style": "center",
    "slideshow": {
     "slide_type": "fragment"
    }
   },
   "outputs": [],
   "source": [
    "%%capture query\n",
    "\n",
    "pd.read_sql(\"\"\"\n",
    "\n",
    "SELECT *\n",
    "    \n",
    "FROM \n",
    "\n",
    "(SELECT name, \n",
    "     city,\n",
    "     country,\n",
    "     MAX(CAST(altitude as float)) AS max_altitude\n",
    "     \n",
    "     FROM airports\n",
    "     \n",
    "     GROUP BY country\n",
    "     \n",
    "     ) AS high_alt_airp\n",
    "     \n",
    " WHERE high_alt_airp.country IN (\"United States\", \"Russia\", \"China\")\n",
    "\n",
    "\n",
    "\n",
    "\"\"\", con)"
   ]
  },
  {
   "cell_type": "code",
   "execution_count": null,
   "id": "a2e68b67",
   "metadata": {
    "slideshow": {
     "slide_type": "slide"
    }
   },
   "outputs": [],
   "source": [
    "query()"
   ]
  },
  {
   "cell_type": "markdown",
   "id": "70a71f90",
   "metadata": {
    "slideshow": {
     "slide_type": "slide"
    }
   },
   "source": [
    "Now I select the mean altitude across the three countries."
   ]
  },
  {
   "cell_type": "code",
   "execution_count": null,
   "id": "e9495d61",
   "metadata": {
    "slideshow": {
     "slide_type": "fragment"
    }
   },
   "outputs": [],
   "source": [
    "%%capture query\n",
    "\n",
    "pd.read_sql(\"\"\"\n",
    "\n",
    "SELECT AVG(high_alt_airp.max_altitude) AS max_altitude_avg\n",
    "    \n",
    "FROM \n",
    "\n",
    "(SELECT name, \n",
    "     city,\n",
    "     country,\n",
    "     MAX(CAST(altitude as float)) AS max_altitude\n",
    "     \n",
    "     FROM airports\n",
    "     \n",
    "     GROUP BY country\n",
    "     \n",
    "     ) AS high_alt_airp\n",
    "     \n",
    " WHERE high_alt_airp.country IN (\"United States\", \"Russia\", \"China\")\n",
    "\n",
    "\n",
    "\n",
    "\"\"\", con)"
   ]
  },
  {
   "cell_type": "code",
   "execution_count": null,
   "id": "5474de91",
   "metadata": {
    "slideshow": {
     "slide_type": "slide"
    }
   },
   "outputs": [],
   "source": [
    "# Average altitude of the highest airports in Russia, United States, and China\n",
    "query()"
   ]
  },
  {
   "cell_type": "markdown",
   "id": "ef710fe4",
   "metadata": {
    "slideshow": {
     "slide_type": "slide"
    }
   },
   "source": [
    "One can create, in principle, a new table of derived columns and do selections and filtering on that new table.\n",
    "\n",
    "Let's take a look at our routes table again."
   ]
  },
  {
   "cell_type": "code",
   "execution_count": null,
   "id": "b5757b74",
   "metadata": {
    "slideshow": {
     "slide_type": "fragment"
    }
   },
   "outputs": [],
   "source": [
    "pd.read_sql(\"\"\"\n",
    "\n",
    "SELECT * \n",
    "     FROM routes\n",
    "     LIMIT 5\n",
    "\n",
    "\n",
    "\"\"\", con)"
   ]
  },
  {
   "cell_type": "markdown",
   "id": "3a2901cc",
   "metadata": {
    "slideshow": {
     "slide_type": "slide"
    }
   },
   "source": [
    "For each airport I want:\n",
    "- the count of routes that leaves from there.\n",
    "- the count of routes that arrive there.\n",
    "\n",
    "Many ways to do this. But I'll make full use of subqueries and joins here."
   ]
  },
  {
   "cell_type": "code",
   "execution_count": null,
   "id": "a3118ec5",
   "metadata": {
    "slideshow": {
     "slide_type": "slide"
    }
   },
   "outputs": [],
   "source": [
    "departure_table = pd.read_sql(\"\"\"\n",
    "\n",
    "SELECT source, COUNT(source) as departure_count\n",
    "     FROM routes\n",
    "     \n",
    "     GROUP BY source\n",
    "     \n",
    "\"\"\", con)"
   ]
  },
  {
   "cell_type": "code",
   "execution_count": null,
   "id": "f65396d3",
   "metadata": {
    "slideshow": {
     "slide_type": "subslide"
    }
   },
   "outputs": [],
   "source": [
    "departure_table"
   ]
  },
  {
   "cell_type": "code",
   "execution_count": null,
   "id": "b9573f20",
   "metadata": {
    "slideshow": {
     "slide_type": "slide"
    }
   },
   "outputs": [],
   "source": [
    "arrival_table = pd.read_sql(\"\"\"\n",
    "\n",
    "SELECT dest, COUNT(dest) as arrival_count\n",
    "     FROM routes\n",
    "     \n",
    "     GROUP BY dest\n",
    "     \n",
    "\"\"\", con)"
   ]
  },
  {
   "cell_type": "code",
   "execution_count": null,
   "id": "97ea49b8",
   "metadata": {
    "slideshow": {
     "slide_type": "subslide"
    }
   },
   "outputs": [],
   "source": [
    "arrival_table"
   ]
  },
  {
   "cell_type": "markdown",
   "id": "42cde3fc",
   "metadata": {
    "slideshow": {
     "slide_type": "slide"
    }
   },
   "source": [
    "We can link these the arrival tables and destination tables together:\n",
    "- Keep records where source and destination are in both tables.\n",
    "- What operation?"
   ]
  },
  {
   "cell_type": "markdown",
   "id": "63ba73d9",
   "metadata": {
    "slideshow": {
     "slide_type": "fragment"
    }
   },
   "source": [
    "INNER JOIN ON SUBQUERY RESULTS!"
   ]
  },
  {
   "cell_type": "code",
   "execution_count": null,
   "id": "e0cb27c8",
   "metadata": {
    "slideshow": {
     "slide_type": "slide"
    }
   },
   "outputs": [],
   "source": [
    "%%capture full_result\n",
    "\n",
    "pd.read_sql(\"\"\"\n",
    "\n",
    "SELECT dep.source AS airport_code,\n",
    "        dep.departure_count,\n",
    "        arriv.arrival_count \n",
    "        \n",
    "FROM\n",
    "\n",
    "(SELECT source, COUNT(source) as departure_count\n",
    "     FROM routes\n",
    "     \n",
    "     GROUP BY source) AS dep\n",
    "\n",
    "INNER JOIN \n",
    "\n",
    "(SELECT dest, COUNT(dest) as arrival_count\n",
    "     FROM routes\n",
    "     \n",
    "     GROUP BY dest) AS arriv\n",
    "\n",
    "ON dep.source = arriv.dest\n",
    "     \n",
    "\"\"\", con)"
   ]
  },
  {
   "cell_type": "code",
   "execution_count": null,
   "id": "c7fb0734",
   "metadata": {
    "slideshow": {
     "slide_type": "slide"
    }
   },
   "outputs": [],
   "source": [
    "full_result()"
   ]
  },
  {
   "cell_type": "markdown",
   "id": "88d845a2",
   "metadata": {
    "slideshow": {
     "slide_type": "slide"
    }
   },
   "source": [
    "This result is a derived table telling us useful information for each airport and keeping relevant records.\n",
    "\n",
    "- We can filter or aggregate on this derived table as we see fit.\n",
    "\n",
    "\n",
    "- Get all airports with high amount of routes servicing it: \n",
    "    - departure and arrival count both greater than 100.\n",
    "- Order by arrival and then deperature count both in descending order.\n",
    "\n",
    "Help this hapless data science instructor out!"
   ]
  },
  {
   "cell_type": "code",
   "execution_count": null,
   "id": "712dc60f",
   "metadata": {
    "slideshow": {
     "slide_type": "fragment"
    }
   },
   "outputs": [],
   "source": [
    "%%capture filtered_result\n",
    "\n",
    "pd.read_sql(\"\"\"\n",
    "\n",
    "SELECT dep.source AS airport_code,\n",
    "        dep.departure_count,\n",
    "        arriv.arrival_count \n",
    "        \n",
    "FROM\n",
    "\n",
    "(SELECT source, COUNT(source) as departure_count\n",
    "     FROM routes\n",
    "     \n",
    "     GROUP BY source) AS dep\n",
    "\n",
    "INNER JOIN \n",
    "\n",
    "(SELECT dest, COUNT(dest) as arrival_count\n",
    "     FROM routes\n",
    "     \n",
    "     GROUP BY dest) AS arriv\n",
    "\n",
    "ON dep.source = arriv.dest\n",
    "     \n",
    "\"\"\", con)"
   ]
  },
  {
   "cell_type": "code",
   "execution_count": null,
   "id": "11c93a32",
   "metadata": {
    "slideshow": {
     "slide_type": "slide"
    }
   },
   "outputs": [],
   "source": [
    "filtered_result()"
   ]
  },
  {
   "cell_type": "markdown",
   "id": "a25b585b",
   "metadata": {
    "slideshow": {
     "slide_type": "slide"
    }
   },
   "source": [
    "- Complex as subqueries pile on. \n",
    "- There are ways to organize subqueries: common table expressions\n",
    "- Will make code readable.\n",
    "\n",
    "But first: other ways subqueries can be used."
   ]
  },
  {
   "cell_type": "markdown",
   "id": "d5f5f8f0",
   "metadata": {
    "slideshow": {
     "slide_type": "slide"
    }
   },
   "source": [
    "#### Subqueries in the WHERE statement\n",
    "\n",
    "- Can use the result of a subquery to filter another selection.\n",
    "\n",
    "I want all route records where the departure airport has a departure route count greater than 200."
   ]
  },
  {
   "cell_type": "code",
   "execution_count": null,
   "id": "ae7b008a",
   "metadata": {
    "slideshow": {
     "slide_type": "fragment"
    }
   },
   "outputs": [],
   "source": [
    "%%capture where_subquery1\n",
    "pd.read_sql('''\n",
    "\n",
    "\n",
    "SELECT *\n",
    "            \n",
    "FROM routes\n",
    "\n",
    "WHERE source IN (SELECT source \n",
    "     FROM routes\n",
    "     GROUP BY source\n",
    "     HAVING COUNT(source) > 200) \n",
    "''', con)"
   ]
  },
  {
   "cell_type": "code",
   "execution_count": null,
   "id": "7917ac74",
   "metadata": {
    "slideshow": {
     "slide_type": "slide"
    }
   },
   "outputs": [],
   "source": [
    "where_subquery1()"
   ]
  },
  {
   "cell_type": "markdown",
   "id": "7d0f125e",
   "metadata": {
    "slideshow": {
     "slide_type": "slide"
    }
   },
   "source": [
    "Subquerying made this query possible.\n",
    "\n",
    "#### The Semijoin\n",
    "\n",
    "- Using a subquery from one table to filter another table.\n",
    "\n",
    "Example:\n",
    "\n",
    "Get the airport name, code, country, and altitude for airports with more than 200 routes originating from that airport."
   ]
  },
  {
   "cell_type": "code",
   "execution_count": null,
   "id": "7f2e7333",
   "metadata": {
    "slideshow": {
     "slide_type": "fragment"
    }
   },
   "outputs": [],
   "source": [
    "%%capture semijoin\n",
    "pd.read_sql('''\n",
    "\n",
    "SELECT *\n",
    "FROM airports\n",
    "\n",
    "WHERE code IN (\n",
    "SELECT source \n",
    "     FROM routes\n",
    "     GROUP BY source\n",
    "     HAVING COUNT(source) > 300 \n",
    ")\n",
    "''', con)"
   ]
  },
  {
   "cell_type": "code",
   "execution_count": null,
   "id": "dad9c2b1",
   "metadata": {
    "scrolled": true,
    "slideshow": {
     "slide_type": "slide"
    }
   },
   "outputs": [],
   "source": [
    "semijoin()"
   ]
  },
  {
   "cell_type": "markdown",
   "id": "ad15717b",
   "metadata": {
    "slideshow": {
     "slide_type": "slide"
    }
   },
   "source": [
    "#### The antijoin\n",
    "\n",
    "Just the negation of the semijoin:"
   ]
  },
  {
   "cell_type": "code",
   "execution_count": null,
   "id": "2d01e230",
   "metadata": {
    "slideshow": {
     "slide_type": "fragment"
    }
   },
   "outputs": [],
   "source": [
    "%%capture antijoin\n",
    "\n",
    "pd.read_sql('''\n",
    "SELECT *\n",
    "FROM airports\n",
    "\n",
    "WHERE NOT code IN (\n",
    "SELECT source \n",
    "     FROM routes\n",
    "     GROUP BY source\n",
    "     HAVING COUNT(source) > 300 \n",
    ")\n",
    "''', con)"
   ]
  },
  {
   "cell_type": "code",
   "execution_count": null,
   "id": "cace0012",
   "metadata": {
    "slideshow": {
     "slide_type": "slide"
    }
   },
   "outputs": [],
   "source": [
    "antijoin()"
   ]
  },
  {
   "cell_type": "markdown",
   "id": "b5baae57",
   "metadata": {
    "slideshow": {
     "slide_type": "slide"
    }
   },
   "source": [
    "#### Subqueries in the SELECT statement\n",
    "\n",
    "Get altitude of airport side by side with average airport altitude in the respective country."
   ]
  },
  {
   "cell_type": "code",
   "execution_count": null,
   "id": "fe75ebec",
   "metadata": {
    "slideshow": {
     "slide_type": "fragment"
    }
   },
   "outputs": [],
   "source": [
    "%%capture select_subquery\n",
    "\n",
    "pd.read_sql('''\n",
    "SELECT country,\n",
    "name, \n",
    "CAST(altitude as int) AS altitude ,\n",
    "\n",
    "(SELECT AVG(CAST(altitude as int))\n",
    "FROM airports\n",
    "GROUP BY \n",
    "country) AS avg_alt\n",
    "\n",
    "FROM airports\n",
    "\n",
    "\n",
    "''', con)"
   ]
  },
  {
   "cell_type": "code",
   "execution_count": null,
   "id": "02746df0",
   "metadata": {
    "slideshow": {
     "slide_type": "slide"
    }
   },
   "outputs": [],
   "source": [
    "select_subquery()"
   ]
  },
  {
   "cell_type": "markdown",
   "id": "617c47cc",
   "metadata": {
    "cell_style": "split",
    "slideshow": {
     "slide_type": "slide"
    }
   },
   "source": [
    "#### Common Table Expressions (CTEs)\n",
    "\n",
    "Useful for when:\n",
    "\n",
    "- Multiple subqueries floating around.\n",
    "- Reusing same subqueries over and over again in same statement.\n",
    "\n",
    "Cleans code up, reduces error, makes readable."
   ]
  },
  {
   "cell_type": "markdown",
   "id": "44cac3d1",
   "metadata": {
    "cell_style": "split",
    "slideshow": {
     "slide_type": "fragment"
    }
   },
   "source": [
    "CTE syntax:\n",
    "\n",
    "WITH subquery1_name AS (subquery1 statement),\n",
    "<br>\n",
    "WITH subquery2_name AS (subquery2 statement), \n",
    "<br>\n",
    "...., \n",
    "<br>\n",
    "WITH subquery_n_name AS (subquery_n statement)\n",
    "<br>\n",
    "<br>\n",
    "MAIN QUERY"
   ]
  },
  {
   "cell_type": "code",
   "execution_count": null,
   "id": "fcf1c075",
   "metadata": {
    "slideshow": {
     "slide_type": "slide"
    }
   },
   "outputs": [],
   "source": [
    "%%capture filtered_result\n",
    "\n",
    "pd.read_sql(\"\"\"\n",
    "\n",
    "WITH s1 AS (\n",
    "     SELECT source, COUNT(source) as departure_count\n",
    "     FROM routes\n",
    "     GROUP BY source),\n",
    "     \n",
    "     s2 AS ( \n",
    "     SELECT dest, COUNT(dest) as arrival_count\n",
    "     FROM routes\n",
    "     GROUP BY dest\n",
    "     )\n",
    "\n",
    "\n",
    "SELECT source, departure_count, arrival_count\n",
    "FROM\n",
    "s1 INNER JOIN s2\n",
    "ON s1.source = s2.dest\n",
    "\n",
    "     \n",
    "\"\"\", con)"
   ]
  },
  {
   "cell_type": "code",
   "execution_count": null,
   "id": "2d100662",
   "metadata": {
    "slideshow": {
     "slide_type": "slide"
    }
   },
   "outputs": [],
   "source": [
    "filtered_result()"
   ]
  },
  {
   "cell_type": "markdown",
   "id": "cba66f63",
   "metadata": {
    "slideshow": {
     "slide_type": "slide"
    }
   },
   "source": [
    "CTEs make the primary query easy to read.\n",
    "\n",
    "- Subqueries can just be referenced by looking it up in the CTE."
   ]
  }
 ],
 "metadata": {
  "celltoolbar": "Slideshow",
  "kernelspec": {
   "display_name": "Python 3 (ipykernel)",
   "language": "python",
   "name": "python3"
  },
  "language_info": {
   "codemirror_mode": {
    "name": "ipython",
    "version": 3
   },
   "file_extension": ".py",
   "mimetype": "text/x-python",
   "name": "python",
   "nbconvert_exporter": "python",
   "pygments_lexer": "ipython3",
   "version": "3.9.7"
  }
 },
 "nbformat": 4,
 "nbformat_minor": 5
}
